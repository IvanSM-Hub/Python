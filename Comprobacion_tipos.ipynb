{
 "cells": [
  {
   "cell_type": "markdown",
   "id": "a8b852c5",
   "metadata": {},
   "source": [
    "# 2.5 Comprobación de Tipos"
   ]
  },
  {
   "cell_type": "code",
   "execution_count": null,
   "id": "3d247cb8",
   "metadata": {},
   "outputs": [],
   "source": [
    "print(-1, type(-1))"
   ]
  },
  {
   "cell_type": "code",
   "execution_count": null,
   "id": "54ba0566",
   "metadata": {},
   "outputs": [],
   "source": [
    "print(3.1415,type(3.1415))"
   ]
  },
  {
   "cell_type": "code",
   "execution_count": null,
   "id": "3c96b8a1",
   "metadata": {},
   "outputs": [],
   "source": [
    "print(\"hola\",type(\"hola\"))"
   ]
  },
  {
   "cell_type": "code",
   "execution_count": null,
   "id": "751981c1",
   "metadata": {},
   "outputs": [],
   "source": [
    "print(True,type(True))"
   ]
  },
  {
   "cell_type": "code",
   "execution_count": null,
   "id": "efc02d07",
   "metadata": {},
   "outputs": [],
   "source": [
    "print(None,type(None))"
   ]
  },
  {
   "cell_type": "markdown",
   "id": "5e47cceb",
   "metadata": {},
   "source": [
    "***Conversión de Tipos***"
   ]
  },
  {
   "cell_type": "code",
   "execution_count": null,
   "id": "f613324f",
   "metadata": {},
   "outputs": [],
   "source": [
    "x=2\n",
    "\n",
    "print(type(x))"
   ]
  },
  {
   "cell_type": "code",
   "execution_count": null,
   "id": "7e0e0f63",
   "metadata": {},
   "outputs": [],
   "source": [
    "nu_x=str(x)\n",
    "\n",
    "print(type(nu_x))"
   ]
  },
  {
   "cell_type": "markdown",
   "id": "d59f70c8",
   "metadata": {},
   "source": [
    "**También podemos hacer conversión sin asignar valores a una variable**"
   ]
  },
  {
   "cell_type": "code",
   "execution_count": null,
   "id": "dfd5ba67",
   "metadata": {},
   "outputs": [],
   "source": [
    "print(int(2.1))"
   ]
  },
  {
   "cell_type": "code",
   "execution_count": null,
   "id": "8e84a075",
   "metadata": {},
   "outputs": [],
   "source": [
    "print(int(True),\" y el otro es \",int(False))"
   ]
  },
  {
   "cell_type": "code",
   "execution_count": null,
   "id": "e8fba80e",
   "metadata": {},
   "outputs": [],
   "source": [
    "print(int(\"2\"))"
   ]
  },
  {
   "cell_type": "code",
   "execution_count": null,
   "id": "912fbdde",
   "metadata": {},
   "outputs": [],
   "source": [
    "print(str(2))"
   ]
  },
  {
   "cell_type": "code",
   "execution_count": null,
   "id": "1320b60c",
   "metadata": {},
   "outputs": [],
   "source": [
    "print(str(3.1415))"
   ]
  },
  {
   "cell_type": "code",
   "execution_count": null,
   "id": "568b571f",
   "metadata": {},
   "outputs": [],
   "source": [
    "print(str(True),str(False))"
   ]
  },
  {
   "cell_type": "code",
   "execution_count": null,
   "id": "cddf3bb4",
   "metadata": {},
   "outputs": [],
   "source": [
    "print(str(None))"
   ]
  }
 ],
 "metadata": {
  "kernelspec": {
   "display_name": "Python 3 (ipykernel)",
   "language": "python",
   "name": "python3"
  },
  "language_info": {
   "codemirror_mode": {
    "name": "ipython",
    "version": 3
   },
   "file_extension": ".py",
   "mimetype": "text/x-python",
   "name": "python",
   "nbconvert_exporter": "python",
   "pygments_lexer": "ipython3",
   "version": "3.10.9"
  }
 },
 "nbformat": 4,
 "nbformat_minor": 5
}
