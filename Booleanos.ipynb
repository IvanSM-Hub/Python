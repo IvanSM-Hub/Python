{
 "cells": [
  {
   "cell_type": "markdown",
   "id": "af8391f3",
   "metadata": {},
   "source": [
    "# 2.4 Booleanos\n",
    "**Un booleano es el tipo de dato lógico. Solo tiene dos categorias: Verdadero (True) o Falso (False)**"
   ]
  },
  {
   "cell_type": "code",
   "execution_count": null,
   "id": "cdb9fede",
   "metadata": {
    "scrolled": true
   },
   "outputs": [],
   "source": [
    "1+1"
   ]
  },
  {
   "cell_type": "code",
   "execution_count": null,
   "id": "f960f29a",
   "metadata": {
    "scrolled": true
   },
   "outputs": [],
   "source": [
    "1+1==2"
   ]
  },
  {
   "cell_type": "code",
   "execution_count": null,
   "id": "8a6e11fc",
   "metadata": {
    "scrolled": true
   },
   "outputs": [],
   "source": [
    "1+1==3"
   ]
  },
  {
   "cell_type": "code",
   "execution_count": null,
   "id": "39dc21bd",
   "metadata": {
    "scrolled": true
   },
   "outputs": [],
   "source": [
    "variable=True\n",
    "variable"
   ]
  },
  {
   "cell_type": "code",
   "execution_count": null,
   "id": "09f47df1",
   "metadata": {
    "scrolled": true
   },
   "outputs": [],
   "source": [
    "vari=False\n",
    "vari"
   ]
  },
  {
   "cell_type": "code",
   "execution_count": null,
   "id": "6d728a85",
   "metadata": {
    "scrolled": true
   },
   "outputs": [],
   "source": [
    "2 == variable"
   ]
  },
  {
   "cell_type": "code",
   "execution_count": null,
   "id": "09cf95e8",
   "metadata": {
    "scrolled": true
   },
   "outputs": [],
   "source": [
    "True and True"
   ]
  },
  {
   "cell_type": "code",
   "execution_count": null,
   "id": "cf902355",
   "metadata": {
    "scrolled": true
   },
   "outputs": [],
   "source": [
    "(2==1+1) and (3==2+1)"
   ]
  },
  {
   "cell_type": "code",
   "execution_count": null,
   "id": "45b8e33a",
   "metadata": {
    "scrolled": true
   },
   "outputs": [],
   "source": [
    "(2==1+1) and (4==2+1)"
   ]
  },
  {
   "cell_type": "code",
   "execution_count": null,
   "id": "56833077",
   "metadata": {
    "scrolled": true
   },
   "outputs": [],
   "source": [
    "False and False"
   ]
  },
  {
   "cell_type": "code",
   "execution_count": 15,
   "id": "049f32bf",
   "metadata": {},
   "outputs": [
    {
     "data": {
      "text/plain": [
       "bool"
      ]
     },
     "execution_count": 15,
     "metadata": {},
     "output_type": "execute_result"
    }
   ],
   "source": [
    "type(variable)"
   ]
  }
 ],
 "metadata": {
  "kernelspec": {
   "display_name": "Python 3 (ipykernel)",
   "language": "python",
   "name": "python3"
  },
  "language_info": {
   "codemirror_mode": {
    "name": "ipython",
    "version": 3
   },
   "file_extension": ".py",
   "mimetype": "text/x-python",
   "name": "python",
   "nbconvert_exporter": "python",
   "pygments_lexer": "ipython3",
   "version": "3.10.9"
  }
 },
 "nbformat": 4,
 "nbformat_minor": 5
}
