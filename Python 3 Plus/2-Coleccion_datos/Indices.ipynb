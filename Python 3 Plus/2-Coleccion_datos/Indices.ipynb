{
 "cells": [
  {
   "cell_type": "markdown",
   "id": "26b81e95",
   "metadata": {},
   "source": [
    "# 3.1 Índices y slicing\n",
    "Los índices son números ordenados asociados a las variables que nos permiten infentificar los elementos por su posición.<br><br>\n",
    "Por ejemplo, cada elemento de una cadena tiene su índice."
   ]
  },
  {
   "cell_type": "code",
   "execution_count": null,
   "id": "20fb3804",
   "metadata": {},
   "outputs": [],
   "source": [
    "texto='ESTA-CADENA'"
   ]
  },
  {
   "cell_type": "markdown",
   "id": "ee2fae5e",
   "metadata": {},
   "source": [
    "El primer elemento siempre tiene el índice 0 porque con este número inicia la numeración."
   ]
  },
  {
   "cell_type": "code",
   "execution_count": null,
   "id": "aa5dd9b5",
   "metadata": {},
   "outputs": [],
   "source": [
    "print(texto[0],texto[1],texto[2],texto[3])"
   ]
  },
  {
   "cell_type": "markdown",
   "id": "e66fb472",
   "metadata": {},
   "source": [
    "También a causa de esto, el índice del último elemento se diferencia del número total de elmentos por una unidad.<br>\n",
    ">[texto[0],texto[1]...texto[n-3],texto[n-4],texto[n-5]...]"
   ]
  },
  {
   "cell_type": "code",
   "execution_count": null,
   "id": "2daf1309",
   "metadata": {},
   "outputs": [],
   "source": [
    "print(texto[5],texto[6],texto[7],texto[8],texto[9],texto[10])"
   ]
  },
  {
   "cell_type": "markdown",
   "id": "9cc0026b",
   "metadata": {},
   "source": [
    "Para cada elemento también existe un índice inverso que realiza una numeración desde el último elemento hasta el primero, empezando la cuenta con -1."
   ]
  },
  {
   "cell_type": "code",
   "execution_count": null,
   "id": "4947f89c",
   "metadata": {},
   "outputs": [],
   "source": [
    "print(texto[-6],texto[-5],texto[-4],texto[-3],texto[-2],texto[-1])"
   ]
  },
  {
   "cell_type": "markdown",
   "id": "f5a155a2",
   "metadata": {},
   "source": [
    "### Slicing\n",
    "Gracias a los índices podemos selccionar una secuencia de elementos  de una variable. Esto se conoce como Slicing.<br>\n",
    "<br>\n",
    "La secuencia de elementos la definimos con el formato *[a:b]*. Esto es un rango de valores, y el slicing va a devolvernos desde el elemento previo *a* al *b*, así que vamos a decir que *b* está excluido del rango.<br>\n",
    "<br>\n",
    ">**Protip:** Cuando un rango de valores excluye alguna de sus límites (Siendo *a* el límite inferior, y *b* el límite superior), se dice que el rango es abierto:<br>\n",
    ">--->Abierto por la derecha, si excluye a *b*<br>\n",
    ">--->Abierto por la izquierda, si excluye a *a*"
   ]
  },
  {
   "cell_type": "code",
   "execution_count": null,
   "id": "33bf6e5c",
   "metadata": {},
   "outputs": [],
   "source": [
    "texto[0:3]"
   ]
  },
  {
   "cell_type": "code",
   "execution_count": null,
   "id": "3e192cc9",
   "metadata": {},
   "outputs": [],
   "source": [
    "texto[-6:0]"
   ]
  },
  {
   "cell_type": "markdown",
   "id": "fcfc958e",
   "metadata": {},
   "source": [
    "### Podemos omitir epecificar alguno de los límites:\n",
    "+ Si omitimos *a* [:b], empezará la secuencia desde el índice 0 (equivale a escribir [0:b]).\n",
    "+ Si omitimos *b* [a:], terminará la secuencia cin el último elemento (equivale a escribir [a:(n-1)])."
   ]
  },
  {
   "cell_type": "code",
   "execution_count": null,
   "id": "77ed4fbe",
   "metadata": {},
   "outputs": [],
   "source": [
    "texto[-6:]"
   ]
  },
  {
   "cell_type": "code",
   "execution_count": null,
   "id": "e8461a11",
   "metadata": {},
   "outputs": [],
   "source": [
    "texto[:4]"
   ]
  }
 ],
 "metadata": {
  "kernelspec": {
   "display_name": "Python 3 (ipykernel)",
   "language": "python",
   "name": "python3"
  },
  "language_info": {
   "codemirror_mode": {
    "name": "ipython",
    "version": 3
   },
   "file_extension": ".py",
   "mimetype": "text/x-python",
   "name": "python",
   "nbconvert_exporter": "python",
   "pygments_lexer": "ipython3",
   "version": "3.10.9"
  }
 },
 "nbformat": 4,
 "nbformat_minor": 5
}
