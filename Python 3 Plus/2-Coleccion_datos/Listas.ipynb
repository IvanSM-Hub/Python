{
 "cells": [
  {
   "cell_type": "markdown",
   "id": "add08636",
   "metadata": {},
   "source": [
    "# 3.2 Listas\n",
    "Son un tipo de dato compuesto de varios elementos, estos pueden se carácteres o números, u otros tipos incluso. Cada elemento de la lista es accesible gracias a su índice."
   ]
  },
  {
   "cell_type": "code",
   "execution_count": null,
   "id": "2b758a44",
   "metadata": {},
   "outputs": [],
   "source": []
  }
 ],
 "metadata": {
  "kernelspec": {
   "display_name": "Python 3 (ipykernel)",
   "language": "python",
   "name": "python3"
  },
  "language_info": {
   "codemirror_mode": {
    "name": "ipython",
    "version": 3
   },
   "file_extension": ".py",
   "mimetype": "text/x-python",
   "name": "python",
   "nbconvert_exporter": "python",
   "pygments_lexer": "ipython3",
   "version": "3.10.9"
  }
 },
 "nbformat": 4,
 "nbformat_minor": 5
}
