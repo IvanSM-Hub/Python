{
 "cells": [
  {
   "cell_type": "markdown",
   "metadata": {},
   "source": [
    "<font color=Green>\n",
    "    \n",
    "# **4.4 Ejercicios**\n",
    "\n",
    "</font>\n",
    "\n",
    "### 1) Realiza un programa que lea dos números por teclado y permita elegir entre 3 opciones en un menú:\n",
    "+  Mostrar la suma de dos números\n",
    "+  Mostrar la resta de dos números (el primero menos el segundo)\n",
    "+  Mostrar la multiplicación de dos números\n",
    "### Si ingresamos una opción inválida, el programa informará que es incorrecto"
   ]
  },
  {
   "cell_type": "code",
   "execution_count": null,
   "metadata": {},
   "outputs": [],
   "source": [
    "num1=float(input(\"introduce un número: \"))\n",
    "num2=float(input(\"introduce el segundo número: \"))\n",
    "\n",
    "print(\"Elige una opción:\\n1.Sumar\\n2.Restar\\n3.multiplicar\")\n",
    "opc=int(input())\n",
    "\n",
    "if opc>=1 and opc<=3:\n",
    "    match opc:\n",
    "        case 1:\n",
    "            print(\"La suma de \",num1,\" y \",num2,\" es: \",num1+num2)\n",
    "        case 2:\n",
    "            print(\"La resta de \",num1,\" y \",num2,\" es: \",num1-num2)\n",
    "        case 3:\n",
    "            print(\"La multiplicación de \",num1,\" y \",num2,\" es: \",num1*num2)\n",
    "else:\n",
    "    print(\"la opción introducida es errónea\")"
   ]
  },
  {
   "cell_type": "markdown",
   "metadata": {},
   "source": [
    "### 2) Dada una lista de *strings* (cadenas de caracteres), haga un programa que devuelva:\n",
    "+ El número de strings que tienen una longitud de 2 o más caracteres, y cuyo primer y último caracter son iguales.\n",
    "+ Una lista nueva con solo estos strings."
   ]
  },
  {
   "cell_type": "code",
   "execution_count": null,
   "metadata": {},
   "outputs": [],
   "source": [
    "lista = ['avila','cafe','este','narracion','buda','extra','salida']\n",
    "listaResultado = []\n",
    "\n",
    "for i in lista:\n",
    "    if (len(i)>=2 and i[0]==i[-1]):\n",
    "        listaResultado.append(i)\n",
    "print(len(listaResultado))"
   ]
  },
  {
   "cell_type": "markdown",
   "metadata": {},
   "source": [
    "### 3) Realiza un programa que pida un número impar. Si el usuario no ingresa un número impar, debe repetirse el proceso hasta que ingrese un número válido"
   ]
  },
  {
   "cell_type": "code",
   "execution_count": null,
   "metadata": {},
   "outputs": [],
   "source": [
    "num=float(input(\"introduce un número impar: \"))\n",
    "comp=num%2\n",
    "while comp==0 :\n",
    "    num=float(input(\"introduce un número impar: \"))\n",
    "    comp=num%2\n"
   ]
  },
  {
   "cell_type": "markdown",
   "metadata": {},
   "source": [
    "### 4) Realiza un programa que sume todos los números enteros pares desde el 0 hasta el 100\n",
    "\n",
    "<font color=#003d5c>\n",
    "    \n",
    "> PROTIP: utilizar funciones sum() y range(). El tercer parámetro de range(inicio, fin, salto) indica el incremento entre los valores del rango\n",
    "    \n",
    "</font> "
   ]
  },
  {
   "cell_type": "code",
   "execution_count": null,
   "metadata": {},
   "outputs": [],
   "source": [
    "suma=0\n",
    "for i in range(0,101,2):\n",
    "    suma+=i\n",
    "print(suma)"
   ]
  },
  {
   "cell_type": "markdown",
   "metadata": {},
   "source": [
    "### 5) Realiza un programa que pregunte al usuario cuántos números quiere introducir. Luego debe leer todos los números y obtener la media aritmética:"
   ]
  },
  {
   "cell_type": "code",
   "execution_count": null,
   "metadata": {},
   "outputs": [],
   "source": [
    "lista=[]\n",
    "numSum=0\n",
    "media=0\n",
    "rep=int(input(\"Cuantos números quieres introducir: \"))\n",
    "cont=0\n",
    "\n",
    "while (cont!=rep):\n",
    "    num=int(input(\"introduce un número: \"))\n",
    "    lista.append(num)\n",
    "    numSum+=num\n",
    "    cont+=1\n",
    "\n",
    "media=numSum/rep\n",
    "\n",
    "print(f\"Números introducidos: {lista}\\nMédia de la lista: {media}\")"
   ]
  },
  {
   "cell_type": "markdown",
   "metadata": {},
   "source": [
    "### 6) Realiza un programa que pida al usuario un número entero entre el 0 al 9, y que mientras el número no sea correcto se repite el proceso. Luego debe comprobar si el número se encuentra en la lista de números [0,1,3,5,8] y notificarlo:\n",
    "\n",
    "<font color=#003d5c>\n",
    "    \n",
    "> PROTIP: El comando _(**i IN lista**)_ evalúa la proposición lógica de si existe el elemento _i_ dentro del objeto _lista_\n",
    "    \n",
    "</font> \n"
   ]
  },
  {
   "cell_type": "code",
   "execution_count": 11,
   "metadata": {
    "scrolled": false
   },
   "outputs": [
    {
     "name": "stdout",
     "output_type": "stream",
     "text": [
      "Introduce un número correcto: 1\n",
      "En número introducido 1 es igual al de la lista 1: [0, 1, 3, 5, 8]\n"
     ]
    }
   ],
   "source": [
    "\n",
    "lista=[0,1,3,5,8]\n",
    "\n",
    "while(True):\n",
    "    num=int(input(\"Introduce un número correcto: \"))\n",
    "    if num>=0 and num<=9:\n",
    "        break\n",
    "\n",
    "for i in lista:\n",
    "    if i==num:\n",
    "        print(f\"En número introducido {num} es igual al de la lista {i}: {lista}\")\n",
    "        break\n",
    "else:\n",
    "    print(f\"En número introducido {num} no se encuentra en la lista {lista}\")"
   ]
  },
  {
   "cell_type": "markdown",
   "metadata": {},
   "source": [
    "### 7) Utilizando la función range() y la conversión a listas, genera las siguientes listas dinámicamente:\n",
    "\n",
    "+ ### Todos los números del 0 al 10 [0, 1, ..., 10]\n",
    "+ ### Todos los números del -10 al 0 [-10, -9, -8, ..., 0]\n",
    "+ ### Todos los números pares entre el 0 al 20 [0, 2, 4, ..., 20]\n",
    "+ ### Todos los números impares entre el -20 al 0 [-19, -17, -15, ..., -1]\n",
    "+ ### Todos los números múltiplos de 5 del 0 al 50 [0, 5, 10, 15, ..., 50]"
   ]
  },
  {
   "cell_type": "code",
   "execution_count": 17,
   "metadata": {},
   "outputs": [
    {
     "name": "stdout",
     "output_type": "stream",
     "text": [
      "1ª lista: [0, 1, 2, 3, 4, 5, 6, 7, 8, 9, 10]\n",
      "2ª lista: [-11, -10, -9, -8, -7, -6, -5, -4, -3, -2, -1]\n",
      "3ª lista: [0, 2, 4, 6, 8, 10, 12, 14, 16, 18, 20]\n",
      "4ª lista: [-20, -18, -16, -14, -12, -10, -8, -6, -4, -2]\n",
      "5ª lista: [0, 5, 10, 15, 20, 25, 30, 35, 40, 45, 50]\n"
     ]
    }
   ],
   "source": [
    "listaA=[]\n",
    "for i in range(0,11):\n",
    "    listaA.append(i)\n",
    "print(f\"1ª lista: {listaA}\")\n",
    "\n",
    "listaB=[]\n",
    "for i in range(-11,0):\n",
    "    listaB.append(i)\n",
    "print(f\"2ª lista: {listaB}\")\n",
    "    \n",
    "listaC=[]\n",
    "for i in range(0,21,2):\n",
    "    listaC.append(i)\n",
    "print(f\"3ª lista: {listaC}\")\n",
    "    \n",
    "listaD=[]\n",
    "for i in range(-20,0,2):\n",
    "    listaD.append(i)\n",
    "print(f\"4ª lista: {listaD}\")\n",
    "    \n",
    "listaE=[]\n",
    "for i in range(0,51,5):\n",
    "    listaE.append(i)\n",
    "print(f\"5ª lista: {listaE}\")"
   ]
  },
  {
   "cell_type": "markdown",
   "metadata": {},
   "source": [
    "### 8) Dadas dos listas, se debe generar una tercera lista con todos los elementos que se repitan en ellas, pero no debe repetir ningún elemento en la nueva lista."
   ]
  },
  {
   "cell_type": "code",
   "execution_count": 18,
   "metadata": {},
   "outputs": [
    {
     "name": "stdout",
     "output_type": "stream",
     "text": [
      "['i', '', 'a', 'm', 'g', 'o']\n"
     ]
    }
   ],
   "source": [
    "lista_1 = [\"M\",\"i\",\"\",\"a\",\"m\",\"i\",\"g\",\"o\",\"\",\"G\",\"a\",\"l\",\"i\",\"l\",\"e\",\"o\"]\n",
    "\n",
    "lista_2 = [\"T\",\"u\",\"\",\"a\",\"m\",\"i\",\"g\",\"u\",\"i\",\"t\",\"o\"]\n",
    "\n",
    "lista_3=[]\n",
    "\n",
    "for i in lista_1:\n",
    "    if i in lista_2 and i not in lista_3:\n",
    "        lista_3.append(i)\n",
    "print(lista_3)\n"
   ]
  }
 ],
 "metadata": {
  "kernelspec": {
   "display_name": "Python 3 (ipykernel)",
   "language": "python",
   "name": "python3"
  },
  "language_info": {
   "codemirror_mode": {
    "name": "ipython",
    "version": 3
   },
   "file_extension": ".py",
   "mimetype": "text/x-python",
   "name": "python",
   "nbconvert_exporter": "python",
   "pygments_lexer": "ipython3",
   "version": "3.10.9"
  }
 },
 "nbformat": 4,
 "nbformat_minor": 4
}
