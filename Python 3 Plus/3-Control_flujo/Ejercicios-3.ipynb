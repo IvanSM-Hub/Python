{
 "cells": [
  {
   "cell_type": "markdown",
   "metadata": {},
   "source": [
    "<font color=Green>\n",
    "    \n",
    "# **4.4 Ejercicios**\n",
    "\n",
    "</font>\n",
    "\n",
    "### 1) Realiza un programa que lea dos números por teclado y permita elegir entre 3 opciones en un menú:\n",
    "+  Mostrar la suma de dos números\n",
    "+  Mostrar la resta de dos números (el primero menos el segundo)\n",
    "+  Mostrar la multiplicación de dos números\n",
    "### Si ingresamos una opción inválida, el programa informará que es incorrecto"
   ]
  },
  {
   "cell_type": "code",
   "execution_count": 3,
   "metadata": {
    "scrolled": true
   },
   "outputs": [
    {
     "name": "stdout",
     "output_type": "stream",
     "text": [
      "introduce un número: 1\n",
      "introduce el segundo número: 1\n",
      "Elige una opción:\n",
      "1.Sumar\n",
      "2.Restar\n",
      "3.multiplicar\n",
      "0\n",
      "la opción introducida es erronea\n"
     ]
    }
   ],
   "source": [
    "num1=float(input(\"introduce un número: \"))\n",
    "num2=float(input(\"introduce el segundo número: \"))\n",
    "\n",
    "print(\"Elige una opción:\\n1.Sumar\\n2.Restar\\n3.multiplicar\")\n",
    "opc=int(input())\n",
    "\n",
    "if opc>=1 and opc<=3:\n",
    "    match opc:\n",
    "        case 1:\n",
    "            print(\"La suma de \",num1,\" y \",num2,\" es: \",num1+num2)\n",
    "        case 2:\n",
    "            print(\"La resta de \",num1,\" y \",num2,\" es: \",num1-num2)\n",
    "        case 3:\n",
    "            print(\"La multiplicación de \",num1,\" y \",num2,\" es: \",num1*num2)\n",
    "else:\n",
    "    print(\"la opción introducida es errónea\")"
   ]
  },
  {
   "cell_type": "markdown",
   "metadata": {},
   "source": [
    "### 2) Dada una lista de *strings* (cadenas de caracteres), haga un programa que devuelva:\n",
    "+ El número de strings que tienen una longitud de 2 o más caracteres, y cuyo primer y último caracter son iguales.\n",
    "+ Una lista nueva con solo estos strings."
   ]
  },
  {
   "cell_type": "code",
   "execution_count": 6,
   "metadata": {},
   "outputs": [
    {
     "name": "stdout",
     "output_type": "stream",
     "text": [
      "3\n"
     ]
    }
   ],
   "source": [
    "lista = ['avila','cafe','este','narracion','buda','extra','salida']\n",
    "listaResultado = []\n",
    "\n",
    "for i in lista:\n",
    "    if (len(i)>=2 and i[0]==i[-1]):\n",
    "        listaResultado.append(i)\n",
    "print(len(listaResultado))"
   ]
  },
  {
   "cell_type": "markdown",
   "metadata": {},
   "source": [
    "### 3) Realiza un programa que pida un número impar. Si el usuario no ingresa un número impar, debe repetirse el proceso hasta que ingrese un número válido"
   ]
  },
  {
   "cell_type": "code",
   "execution_count": 9,
   "metadata": {},
   "outputs": [
    {
     "name": "stdout",
     "output_type": "stream",
     "text": [
      "introduce un número: 2\n",
      "introduce un número: 1\n"
     ]
    }
   ],
   "source": [
    "num=float(input(\"introduce un número impar: \"))\n",
    "comp=num%2\n",
    "while comp==0 :\n",
    "    num=float(input(\"introduce un número impar: \"))\n",
    "    comp=num%2\n"
   ]
  },
  {
   "cell_type": "markdown",
   "metadata": {},
   "source": [
    "### 4) Realiza un programa que sume todos los números enteros pares desde el 0 hasta el 100\n",
    "\n",
    "<font color=#003d5c>\n",
    "    \n",
    "> PROTIP: utilizar funciones sum() y range(). El tercer parámetro de range(inicio, fin, salto) indica el incremento entre los valores del rango\n",
    "    \n",
    "</font> "
   ]
  },
  {
   "cell_type": "code",
   "execution_count": null,
   "metadata": {},
   "outputs": [],
   "source": []
  },
  {
   "cell_type": "markdown",
   "metadata": {},
   "source": [
    "### 5) Realiza un programa que pregunte al usuario cuántos números quiere introducir. Luego debe leer todos los números y obtener la media aritmética:"
   ]
  },
  {
   "cell_type": "code",
   "execution_count": null,
   "metadata": {},
   "outputs": [],
   "source": []
  },
  {
   "cell_type": "markdown",
   "metadata": {},
   "source": [
    "### 6) Realiza un programa que pida al usuario un número entero entre el 0 al 9, y que mientras el número no sea correcto se repite el proceso. Luego debe comprobar si el número se encuentra en la lista de números [0,1,3,5,8] y notificarlo:\n",
    "\n",
    "<font color=#003d5c>\n",
    "    \n",
    "> PROTIP: El comando _(**i IN lista**)_ evalúa la proposición lógica de si existe el elemento _i_ dentro del objeto _lista_\n",
    "    \n",
    "</font> \n"
   ]
  },
  {
   "cell_type": "code",
   "execution_count": null,
   "metadata": {},
   "outputs": [],
   "source": []
  },
  {
   "cell_type": "markdown",
   "metadata": {},
   "source": [
    "### 7) Utilizando la función range() y la conversión a listas, genera las siguientes listas dinámicamente:\n",
    "\n",
    "+ ### Todos los números del 0 al 10 [0, 1, ..., 10]\n",
    "+ ### Todos los números del -10 al 0 [-10, -9, -8, ..., 0]\n",
    "+ ### Todos los números pares entre el 0 al 20 [0, 2, 4, ..., 20]\n",
    "+ ### Todos los números impares entre el -20 al 0 [-19, -17, -15, ..., -1]\n",
    "+ ### Todos los números múltiplos de 5 del 0 al 50 [0, 5, 10, 15, ..., 50]"
   ]
  },
  {
   "cell_type": "code",
   "execution_count": null,
   "metadata": {},
   "outputs": [],
   "source": []
  },
  {
   "cell_type": "markdown",
   "metadata": {},
   "source": [
    "### 8) Dadas dos listas, se debe generar una tercera lista con todos los elementos que se repitan en ellas, pero no debe repetir ningún elemento en la nueva lista."
   ]
  },
  {
   "cell_type": "code",
   "execution_count": null,
   "metadata": {},
   "outputs": [],
   "source": []
  },
  {
   "cell_type": "code",
   "execution_count": null,
   "metadata": {},
   "outputs": [],
   "source": []
  }
 ],
 "metadata": {
  "kernelspec": {
   "display_name": "Python 3 (ipykernel)",
   "language": "python",
   "name": "python3"
  },
  "language_info": {
   "codemirror_mode": {
    "name": "ipython",
    "version": 3
   },
   "file_extension": ".py",
   "mimetype": "text/x-python",
   "name": "python",
   "nbconvert_exporter": "python",
   "pygments_lexer": "ipython3",
   "version": "3.10.9"
  }
 },
 "nbformat": 4,
 "nbformat_minor": 4
}
