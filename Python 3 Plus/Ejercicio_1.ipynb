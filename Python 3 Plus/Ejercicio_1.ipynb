{
 "cells": [
  {
   "cell_type": "markdown",
   "id": "58b47deb",
   "metadata": {},
   "source": [
    "# 2.10 Ejercicios\n",
    "**1)Define una variable edad y asiignale un valor entero**<br>\n",
    "<ul>\n",
    "    <li>Muestra un valor por pantalla.</li>\n",
    "    <li>Define otra vaiable edad_cadena que contenga el valor de esdad como una cadena de caracteres.</li>\n",
    "    <li>Comprueba el tipo de la nueva variable.</li>\n",
    "    <li>Utiliza la variable edad que has definido previamente y calcula la edad que tendría esa persona en el año 2035.</li>\n",
    "</ul>"
   ]
  }
 ],
 "metadata": {
  "kernelspec": {
   "display_name": "Python 3 (ipykernel)",
   "language": "python",
   "name": "python3"
  },
  "language_info": {
   "codemirror_mode": {
    "name": "ipython",
    "version": 3
   },
   "file_extension": ".py",
   "mimetype": "text/x-python",
   "name": "python",
   "nbconvert_exporter": "python",
   "pygments_lexer": "ipython3",
   "version": "3.10.9"
  }
 },
 "nbformat": 4,
 "nbformat_minor": 5
}
