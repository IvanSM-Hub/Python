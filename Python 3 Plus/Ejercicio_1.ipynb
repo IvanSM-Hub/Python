{
 "cells": [
  {
   "attachments": {},
   "cell_type": "markdown",
   "id": "58b47deb",
   "metadata": {},
   "source": [
    "# 2.10 Ejercicios\n",
    "### 1)Define una variable edad y asiignale un valor entero\n",
    "+ Muestra un valor por pantalla.\n",
    "+ Define otra vaiable edad_cadena que contenga el valor de esdad como una cadena de caracteres.</li>\n",
    "+ Comprueba el tipo de la nueva variable.\n",
    "+ Utiliza la variable edad que has definido previamente y calcula la edad que tendría esa persona en el año 2035."
   ]
  },
  {
   "cell_type": "markdown",
   "id": "204e1046",
   "metadata": {},
   "source": [
    "### 2) Al realizar una consulta en un registro hemos recibido unos valores corruptos. Al parecer entrega el nombre y apellido del alumno al revés. ¿Qué puede hacer para obtener el siguiente mensaje por pantalla\n",
    "> _NOMBRE APELLIDO ha sacado un NOTA_"
   ]
  },
  {
   "cell_type": "markdown",
   "id": "c2a69a00",
   "metadata": {},
   "source": [
    "### 3) Utilizando operadores lógicos determina si una cadena de texto introducida por el usuario tiene una longitud mayor o igual a 3 y menor o igual a 12 (Basta con mostrar _True o False_ )"
   ]
  },
  {
   "cell_type": "markdown",
   "id": "ddfd296e",
   "metadata": {},
   "source": [
    "### 4) Realiza un programa que lea 2 números por teclado y determine los siguientes aspectos (es suficiene con mostrar True o False):\n",
    "+ Si los dos números son iguales\n",
    "+ Si los dos números son diferentes\n",
    "+ Si el primero es mayor que el segundo\n",
    "+ Si el segundo es mayor o igual que el primero"
   ]
  }
 ],
 "metadata": {
  "kernelspec": {
   "display_name": "Python 3 (ipykernel)",
   "language": "python",
   "name": "python3"
  },
  "language_info": {
   "codemirror_mode": {
    "name": "ipython",
    "version": 3
   },
   "file_extension": ".py",
   "mimetype": "text/x-python",
   "name": "python",
   "nbconvert_exporter": "python",
   "pygments_lexer": "ipython3",
   "version": "3.10.9"
  }
 },
 "nbformat": 4,
 "nbformat_minor": 5
}
