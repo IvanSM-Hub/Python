{
 "cells": [
  {
   "cell_type": "markdown",
   "id": "58b47deb",
   "metadata": {},
   "source": [
    "# 2.10 Ejercicios\n",
    "## 1)Define una variable edad y asiignale un valor entero\n",
    "+ Muestra un valor por pantalla.\n",
    "+ Define otra vaiable edad_cadena que contenga el valor de es edad como una cadena de caracteres.</li>\n",
    "+ Comprueba el tipo de la nueva variable.\n",
    "+ Utiliza la variable edad que has definido previamente y calcula la edad que tendría esa persona en el año 2035."
   ]
  },
  {
   "cell_type": "code",
   "execution_count": null,
   "id": "064370dd",
   "metadata": {},
   "outputs": [],
   "source": [
    "edad=27\n",
    "print(type(edad))\n",
    "\n",
    "edad_cadena=str(edad)\n",
    "print(type(edad_cadena))\n",
    "\n",
    "edad+=12\n",
    "\n",
    "print(\"En 2035 tendré: \",edad)"
   ]
  },
  {
   "cell_type": "markdown",
   "id": "204e1046",
   "metadata": {},
   "source": [
    "### 2) Al realizar una consulta en un registro hemos recibido unos valores corruptos. Al parecer entrega el nombre y apellido del alumno al revés. ¿Qué puede hacer para obtener el siguiente mensaje por pantalla\n",
    "> _NOMBRE APELLIDO ha sacado un NOTA_"
   ]
  },
  {
   "cell_type": "code",
   "execution_count": null,
   "id": "f77f24ae",
   "metadata": {},
   "outputs": [],
   "source": [
    "cadena=\"óiraS návI, 01\""
   ]
  },
  {
   "cell_type": "code",
   "execution_count": null,
   "id": "43d562e3",
   "metadata": {
    "scrolled": true
   },
   "outputs": [],
   "source": [
    "cadena_volteada=cadena[::-1]\n",
    "cadena_volteada"
   ]
  },
  {
   "cell_type": "code",
   "execution_count": null,
   "id": "6397f759",
   "metadata": {},
   "outputs": [],
   "source": [
    "print(cadena_volteada[4::],\"ha sacado un \",cadena_volteada[:2])"
   ]
  },
  {
   "cell_type": "markdown",
   "id": "c2a69a00",
   "metadata": {},
   "source": [
    "### 3) Utilizando operadores lógicos determina si una cadena de texto introducida por el usuario tiene una longitud mayor o igual a 3 y menor o igual a 12 (Basta con mostrar _True o False_ )"
   ]
  },
  {
   "cell_type": "code",
   "execution_count": null,
   "id": "c80989f9",
   "metadata": {},
   "outputs": [],
   "source": [
    "cadena=input(\"Introduce un texto\")\n",
    "print('¿La cadena de texto introducida es mayor o igual que 3 pero menor que 12?\\n',len(cadena)>=3 and len(cadena)<=12)"
   ]
  },
  {
   "cell_type": "markdown",
   "id": "ddfd296e",
   "metadata": {},
   "source": [
    "### 4) Realiza un programa que lea 2 números por teclado y determine los siguientes aspectos (es suficiene con mostrar True o False):\n",
    "+ Si los dos números son iguales\n",
    "+ Si los dos números son diferentes\n",
    "+ Si el primero es mayor que el segundo\n",
    "+ Si el segundo es mayor o igual que el primero"
   ]
  },
  {
   "cell_type": "code",
   "execution_count": null,
   "id": "02a22e31",
   "metadata": {},
   "outputs": [],
   "source": [
    "num1=input(\"Introduce un número: \")\n",
    "num2=input(\"Introduce un segundo número: \")\n",
    "\n",
    "print(\"¿Los números son iguales?\\n\",num1==num2)"
   ]
  },
  {
   "cell_type": "code",
   "execution_count": null,
   "id": "e23a1de2",
   "metadata": {},
   "outputs": [],
   "source": [
    "num1=input(\"Introduce un número: \")\n",
    "num2=input(\"Introduce un segundo número: \")\n",
    "\n",
    "print(\"¿Los números son diferentes?\\n\",num1!=num2)"
   ]
  },
  {
   "cell_type": "code",
   "execution_count": null,
   "id": "8f7ae558",
   "metadata": {},
   "outputs": [],
   "source": [
    "num1=input(\"Introduce un número: \")\n",
    "num2=input(\"Introduce un segundo número: \")\n",
    "\n",
    "print(\"¿El primer número es mayor que el segundo?\\n\",num1>num2)"
   ]
  },
  {
   "cell_type": "code",
   "execution_count": null,
   "id": "edbd6c94",
   "metadata": {},
   "outputs": [],
   "source": [
    "num1=input(\"Introduce un número: \")\n",
    "num2=input(\"Introduce un segundo número: \")\n",
    "\n",
    "print(\"¿El segundo número es mayor que el primero?\\n\",num2>num1)"
   ]
  }
 ],
 "metadata": {
  "kernelspec": {
   "display_name": "Python 3 (ipykernel)",
   "language": "python",
   "name": "python3"
  },
  "language_info": {
   "codemirror_mode": {
    "name": "ipython",
    "version": 3
   },
   "file_extension": ".py",
   "mimetype": "text/x-python",
   "name": "python",
   "nbconvert_exporter": "python",
   "pygments_lexer": "ipython3",
   "version": "3.10.9"
  }
 },
 "nbformat": 4,
 "nbformat_minor": 5
}
