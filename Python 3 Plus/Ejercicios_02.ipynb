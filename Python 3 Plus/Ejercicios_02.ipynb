{
 "cells": [
  {
   "cell_type": "markdown",
   "id": "f8870a89",
   "metadata": {},
   "source": [
    "# 3.6 Ejercicios\n",
    "### 1) ¿Puedes identificar el error en el siguiente código?\n",
    "> media = num_1 + num_2 + num_3 / 3"
   ]
  },
  {
   "cell_type": "code",
   "execution_count": 6,
   "id": "661efc84",
   "metadata": {},
   "outputs": [
    {
     "name": "stdout",
     "output_type": "stream",
     "text": [
      "La media es la siguiente:  3\n"
     ]
    }
   ],
   "source": [
    "num_1=2\n",
    "num_2=3\n",
    "num_3=4\n",
    "\n",
    "media=(num_1+num_2+num_3)/3\n",
    "\n",
    "print(\"La media es la siguiente: \",int(media))"
   ]
  },
  {
   "cell_type": "markdown",
   "id": "05282fa4",
   "metadata": {},
   "source": [
    "### 2) En la siguiente matriz, el cuarto elemento siempre es la suma de los tres anteriores. Utilizando la indexación corrige las listas que no cumplan esta condición:"
   ]
  },
  {
   "cell_type": "code",
   "execution_count": 7,
   "id": "06ae9432",
   "metadata": {},
   "outputs": [
    {
     "data": {
      "text/plain": [
       "[[1, 1, 1, 3], [2, 2, 2, 7], [3, 3, 3, 9], [4, 4, 4, 13]]"
      ]
     },
     "execution_count": 7,
     "metadata": {},
     "output_type": "execute_result"
    }
   ],
   "source": [
    "matriz=[\n",
    "    [1,1,1,3],\n",
    "    [2,2,2,7],\n",
    "    [3,3,3,9],\n",
    "    [4,4,4,13]\n",
    "];\n",
    "\n",
    "matriz"
   ]
  },
  {
   "cell_type": "code",
   "execution_count": 8,
   "id": "898806b8",
   "metadata": {},
   "outputs": [
    {
     "data": {
      "text/plain": [
       "[[1, 1, 1, 3], [2, 2, 2, 6], [3, 3, 3, 9], [4, 4, 4, 12]]"
      ]
     },
     "execution_count": 8,
     "metadata": {},
     "output_type": "execute_result"
    }
   ],
   "source": [
    "matriz[1][3]=6\n",
    "matriz[3][3]=12\n",
    "\n",
    "matriz"
   ]
  },
  {
   "cell_type": "markdown",
   "id": "adea63c2",
   "metadata": {},
   "source": [
    "### 3) En el desarrollo de un videojuego se te encarga configurar y balancear cada clase de personaje. Partiendo que la estadística base es 2, debes cumplir las siguientes condiciones:\n",
    "+ El caballero tiene el doble de vida y defensa que un guerrero.\n",
    "+ El guerrero tiene el doble de ataque y alcance que un caballero.\n",
    "+ El arquero tiene la misma vida y ataque que un guerrero, pero la mitad de su defensa y el doble de su alcance.\n",
    "+ muestra como quedan las propiedades de los tres personajes.\n",
    ">caballero = {'vida':2,'ataque':2,'defensa':2,'alcance':2}<br>\n",
    ">guerrero= {'vida':2,'ataque':2,'defensa':2,'alcance':2}<br>\n",
    ">arquero = {'vida':2,'ataque':2,'defensa':2,'alcance':2}<br>\n"
   ]
  },
  {
   "cell_type": "code",
   "execution_count": 9,
   "id": "0ffeb6e6",
   "metadata": {},
   "outputs": [],
   "source": [
    "caballero = {'vida':2,'ataque':2,'defensa':2,'alcance':2}\n",
    "guerrero= {'vida':2,'ataque':2,'defensa':2,'alcance':2}\n",
    "arquero = {'vida':2,'ataque':2,'defensa':2,'alcance':2}"
   ]
  },
  {
   "cell_type": "code",
   "execution_count": 15,
   "id": "a37e4aa3",
   "metadata": {},
   "outputs": [
    {
     "name": "stdout",
     "output_type": "stream",
     "text": [
      "caballero\n",
      "{'vida': 4, 'ataque': 2, 'defensa': 4, 'alcance': 2}\n",
      "guerrero\n",
      "{'vida': 2, 'ataque': 4, 'defensa': 2, 'alcance': 4}\n",
      "arquero\n",
      "{'vida': 2, 'ataque': 4, 'defensa': 1, 'alcance': 8}\n"
     ]
    }
   ],
   "source": [
    "caballero['vida']=guerrero['vida']*2\n",
    "caballero['defensa']=guerrero['defensa']*2\n",
    "\n",
    "guerrero['ataque']=caballero['ataque']*2\n",
    "guerrero['alcance']=caballero['alcance']*2\n",
    "\n",
    "arquero['vida']=guerrero['vida']\n",
    "arquero['ataque']=guerrero['ataque']\n",
    "arquero['defensa']=int(guerrero['defensa']/2)\n",
    "arquero['alcance']=guerrero['alcance']*2\n",
    "\n",
    "print(\"caballero\")\n",
    "print(caballero)\n",
    "\n",
    "print(\"guerrero\")\n",
    "print(guerrero)\n",
    "\n",
    "print(\"arquero\")\n",
    "print(arquero)\n"
   ]
  }
 ],
 "metadata": {
  "kernelspec": {
   "display_name": "Python 3 (ipykernel)",
   "language": "python",
   "name": "python3"
  },
  "language_info": {
   "codemirror_mode": {
    "name": "ipython",
    "version": 3
   },
   "file_extension": ".py",
   "mimetype": "text/x-python",
   "name": "python",
   "nbconvert_exporter": "python",
   "pygments_lexer": "ipython3",
   "version": "3.10.9"
  }
 },
 "nbformat": 4,
 "nbformat_minor": 5
}
