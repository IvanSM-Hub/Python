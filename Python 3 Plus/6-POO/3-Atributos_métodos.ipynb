{
 "cells": [
  {
   "cell_type": "markdown",
   "metadata": {},
   "source": [
    "<font color=Green>\n",
    "    \n",
    "# **7.3 Atributos y métodos de clase**\n",
    "\n",
    "</font>\n",
    "\n",
    "### Aunque los objetos salgan del mismo molde (clase), no todos los objetos son iguales. \n",
    "### Un objeto se diferencia de otros objetos de su misma clase por el valor de sus atributos"
   ]
  },
  {
   "cell_type": "code",
   "execution_count": 1,
   "metadata": {},
   "outputs": [],
   "source": [
    "class Torta:\n",
    "    pass\n",
    "\n",
    "torta_fresa = Torta()"
   ]
  },
  {
   "cell_type": "code",
   "execution_count": 2,
   "metadata": {},
   "outputs": [
    {
     "data": {
      "text/plain": [
       "<__main__.Torta at 0x26eff703d00>"
      ]
     },
     "execution_count": 2,
     "metadata": {},
     "output_type": "execute_result"
    }
   ],
   "source": [
    "torta_fresa"
   ]
  },
  {
   "cell_type": "markdown",
   "metadata": {},
   "source": [
    "### Podemos asignarle atributos al objeto luego de su creación."
   ]
  },
  {
   "cell_type": "code",
   "execution_count": 3,
   "metadata": {},
   "outputs": [],
   "source": [
    "torta_fresa.sabor = \"Fresa\"\n",
    "torta_fresa.color = \"Rosado\""
   ]
  },
  {
   "cell_type": "code",
   "execution_count": 4,
   "metadata": {},
   "outputs": [
    {
     "data": {
      "text/plain": [
       "'Fresa'"
      ]
     },
     "execution_count": 4,
     "metadata": {},
     "output_type": "execute_result"
    }
   ],
   "source": [
    "torta_fresa.sabor"
   ]
  },
  {
   "cell_type": "code",
   "execution_count": 5,
   "metadata": {},
   "outputs": [
    {
     "data": {
      "text/plain": [
       "'El sabor de la torta es Fresa'"
      ]
     },
     "execution_count": 5,
     "metadata": {},
     "output_type": "execute_result"
    }
   ],
   "source": [
    "f'El sabor de la torta es {torta_fresa.sabor}'"
   ]
  },
  {
   "cell_type": "markdown",
   "metadata": {},
   "source": [
    "### También podemos definir internamente los atributos de clase, y asignarle un valor por defecto que compartirán todas las instancias."
   ]
  },
  {
   "cell_type": "code",
   "execution_count": 6,
   "metadata": {},
   "outputs": [],
   "source": [
    "class Torta:\n",
    "    chocolate = False"
   ]
  },
  {
   "cell_type": "code",
   "execution_count": 7,
   "metadata": {},
   "outputs": [
    {
     "data": {
      "text/plain": [
       "False"
      ]
     },
     "execution_count": 7,
     "metadata": {},
     "output_type": "execute_result"
    }
   ],
   "source": [
    "torta_2 = Torta()\n",
    "torta_2.chocolate"
   ]
  },
  {
   "cell_type": "code",
   "execution_count": 8,
   "metadata": {},
   "outputs": [
    {
     "data": {
      "text/plain": [
       "True"
      ]
     },
     "execution_count": 8,
     "metadata": {},
     "output_type": "execute_result"
    }
   ],
   "source": [
    "torta_2.chocolate = True\n",
    "torta_2.chocolate"
   ]
  },
  {
   "cell_type": "markdown",
   "metadata": {},
   "source": [
    "<font color=#003d5c>\n",
    "\n",
    "## El método _INIT_ y el término _self_\n",
    "</font>\n",
    "\n",
    "+ _init_ (método constructor) se ejecuta al crear un objeto: Permite enviarle argumentos al objeto durante la instanciación.\n",
    "+ _self_ hace referencia al propio objeto: Sirve para diferenciar el ámbito de clase y el de un método."
   ]
  },
  {
   "cell_type": "code",
   "execution_count": 1,
   "metadata": {},
   "outputs": [
    {
     "name": "stdout",
     "output_type": "stream",
     "text": [
      "Se creó una torta.\n"
     ]
    }
   ],
   "source": [
    "class Torta():\n",
    "    glaseado = False\n",
    "    \n",
    "    def __init__(self):\n",
    "        print('Se creó una torta.')\n",
    "        \n",
    "t = Torta()\n",
    "        "
   ]
  },
  {
   "cell_type": "code",
   "execution_count": 2,
   "metadata": {},
   "outputs": [
    {
     "name": "stdout",
     "output_type": "stream",
     "text": [
      "Se creó una torta.\n"
     ]
    },
    {
     "data": {
      "text/plain": [
       "False"
      ]
     },
     "execution_count": 2,
     "metadata": {},
     "output_type": "execute_result"
    }
   ],
   "source": [
    "class Torta():\n",
    "    glaseado = False\n",
    "    \n",
    "    def __init__(self):\n",
    "        print('Se creó una torta.')\n",
    "    \n",
    "    def glasear(self):\n",
    "        self.glaseado = True\n",
    "        \n",
    "t = Torta()\n",
    "t.glaseado\n",
    "        "
   ]
  },
  {
   "cell_type": "code",
   "execution_count": 3,
   "metadata": {},
   "outputs": [
    {
     "data": {
      "text/plain": [
       "True"
      ]
     },
     "execution_count": 3,
     "metadata": {},
     "output_type": "execute_result"
    }
   ],
   "source": [
    "t.glasear()\n",
    "t.glaseado"
   ]
  },
  {
   "cell_type": "code",
   "execution_count": 4,
   "metadata": {},
   "outputs": [],
   "source": [
    "class Torta():\n",
    "    glaseado = False\n",
    "    \n",
    "    def __init__(self):\n",
    "        print('Se creó una torta.')\n",
    "    \n",
    "    def glasear(self):\n",
    "        self.glaseado = True\n",
    "        \n",
    "    def esta_glaseada(self):\n",
    "        if (self.glaseado):\n",
    "            print('Soy una torta glaseada')\n",
    "        else:\n",
    "            print('Soy una torta sencilla sin glaseado')"
   ]
  },
  {
   "cell_type": "code",
   "execution_count": 5,
   "metadata": {},
   "outputs": [
    {
     "name": "stdout",
     "output_type": "stream",
     "text": [
      "Se creó una torta.\n"
     ]
    }
   ],
   "source": [
    "t = Torta()"
   ]
  },
  {
   "cell_type": "code",
   "execution_count": 6,
   "metadata": {},
   "outputs": [
    {
     "name": "stdout",
     "output_type": "stream",
     "text": [
      "Soy una torta sencilla sin glaseado\n"
     ]
    }
   ],
   "source": [
    "t.esta_glaseada()"
   ]
  },
  {
   "cell_type": "code",
   "execution_count": 7,
   "metadata": {},
   "outputs": [],
   "source": [
    "t.glasear()"
   ]
  },
  {
   "cell_type": "code",
   "execution_count": 8,
   "metadata": {},
   "outputs": [
    {
     "name": "stdout",
     "output_type": "stream",
     "text": [
      "Soy una torta glaseada\n"
     ]
    }
   ],
   "source": [
    "t.esta_glaseada()"
   ]
  },
  {
   "cell_type": "code",
   "execution_count": 9,
   "metadata": {},
   "outputs": [],
   "source": [
    "class Torta():\n",
    "    glaseado = False\n",
    "    \n",
    "    def __init__(self,sabor,color):\n",
    "        self.sabor = sabor\n",
    "        self.color = color\n",
    "        print(f'Se acaba de crear una torta de {sabor} {color}.')\n",
    "    \n",
    "    def glasear(self):\n",
    "        self.glaseado = True\n",
    "        \n",
    "    def esta_glaseada(self):\n",
    "        if (self.glaseado):\n",
    "            print(f'Soy una torta de {self.sabor} glaseada')\n",
    "        else:\n",
    "            print(f'Soy una torta de {self.sabor} sin glaseado')"
   ]
  },
  {
   "cell_type": "code",
   "execution_count": 10,
   "metadata": {},
   "outputs": [
    {
     "name": "stdout",
     "output_type": "stream",
     "text": [
      "Se acaba de crear una torta de Fresa Morada.\n"
     ]
    }
   ],
   "source": [
    "o = Torta('Fresa','Morada')"
   ]
  },
  {
   "cell_type": "code",
   "execution_count": 11,
   "metadata": {},
   "outputs": [
    {
     "data": {
      "text/plain": [
       "'Morada'"
      ]
     },
     "execution_count": 11,
     "metadata": {},
     "output_type": "execute_result"
    }
   ],
   "source": [
    "o.color"
   ]
  },
  {
   "cell_type": "code",
   "execution_count": 12,
   "metadata": {},
   "outputs": [
    {
     "name": "stdout",
     "output_type": "stream",
     "text": [
      "Soy una torta de Fresa sin glaseado\n"
     ]
    }
   ],
   "source": [
    "o.esta_glaseada()"
   ]
  },
  {
   "cell_type": "code",
   "execution_count": 13,
   "metadata": {},
   "outputs": [
    {
     "name": "stdout",
     "output_type": "stream",
     "text": [
      "Soy una torta de Fresa glaseada\n"
     ]
    }
   ],
   "source": [
    "o.glasear()\n",
    "o.esta_glaseada()"
   ]
  },
  {
   "cell_type": "code",
   "execution_count": 14,
   "metadata": {},
   "outputs": [
    {
     "ename": "TypeError",
     "evalue": "Torta.__init__() missing 2 required positional arguments: 'sabor' and 'color'",
     "output_type": "error",
     "traceback": [
      "\u001b[1;31m---------------------------------------------------------------------------\u001b[0m",
      "\u001b[1;31mTypeError\u001b[0m                                 Traceback (most recent call last)",
      "Cell \u001b[1;32mIn[14], line 1\u001b[0m\n\u001b[1;32m----> 1\u001b[0m m \u001b[38;5;241m=\u001b[39m \u001b[43mTorta\u001b[49m\u001b[43m(\u001b[49m\u001b[43m)\u001b[49m\n",
      "\u001b[1;31mTypeError\u001b[0m: Torta.__init__() missing 2 required positional arguments: 'sabor' and 'color'"
     ]
    }
   ],
   "source": [
    "m = Torta()"
   ]
  },
  {
   "cell_type": "code",
   "execution_count": 15,
   "metadata": {},
   "outputs": [],
   "source": [
    "class Torta():\n",
    "    glaseado = False\n",
    "    \n",
    "    def __init__(self,sabor=None,color=None):\n",
    "        self.sabor = sabor\n",
    "        self.color = color\n",
    "        print(f'Se creó una torta de {sabor} {color}.')\n",
    "            \n",
    "    def glasear(self):\n",
    "        self.glaseado = True\n",
    "      \n",
    "    def esta_glaseada(self):\n",
    "        if (self.glaseado):\n",
    "            print(f'Soy una torta de {self.sabor} glaseada')\n",
    "        else:\n",
    "            print(f'Soy una torta de {self.sabor} sin glaseado')"
   ]
  },
  {
   "cell_type": "code",
   "execution_count": 16,
   "metadata": {},
   "outputs": [
    {
     "name": "stdout",
     "output_type": "stream",
     "text": [
      "Se creó una torta de None None.\n"
     ]
    }
   ],
   "source": [
    "m=Torta()"
   ]
  },
  {
   "cell_type": "code",
   "execution_count": 17,
   "metadata": {},
   "outputs": [],
   "source": [
    "class Torta():\n",
    "    glaseado = False\n",
    "    \n",
    "    def __init__(self,sabor=None,color=None):\n",
    "        self.sabor = sabor\n",
    "        self.color = color\n",
    "        if sabor is not None and color is not None:\n",
    "            print(f'Se creó una torta de {sabor} {color}.')\n",
    "        else: \n",
    "            print(f'Se creó una torta de vainilla')\n",
    "            \n",
    "    def glasear(self):\n",
    "        self.glaseado = True\n",
    "      \n",
    "    def esta_glaseada(self):\n",
    "        if (self.glaseado):\n",
    "            print(f'Soy una torta de {self.sabor} glaseada')\n",
    "        else:\n",
    "            print(f'Soy una torta de {self.sabor} sin glaseado')"
   ]
  },
  {
   "cell_type": "code",
   "execution_count": 18,
   "metadata": {},
   "outputs": [
    {
     "name": "stdout",
     "output_type": "stream",
     "text": [
      "Se creó una torta de vainilla\n"
     ]
    }
   ],
   "source": [
    "m=Torta()"
   ]
  },
  {
   "cell_type": "code",
   "execution_count": null,
   "metadata": {},
   "outputs": [],
   "source": []
  }
 ],
 "metadata": {
  "kernelspec": {
   "display_name": "Python 3 (ipykernel)",
   "language": "python",
   "name": "python3"
  },
  "language_info": {
   "codemirror_mode": {
    "name": "ipython",
    "version": 3
   },
   "file_extension": ".py",
   "mimetype": "text/x-python",
   "name": "python",
   "nbconvert_exporter": "python",
   "pygments_lexer": "ipython3",
   "version": "3.10.9"
  }
 },
 "nbformat": 4,
 "nbformat_minor": 4
}
