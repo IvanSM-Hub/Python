{
 "cells": [
  {
   "cell_type": "markdown",
   "metadata": {},
   "source": [
    "<font color=Green>\n",
    "    \n",
    "# **7.4 Métodos especiales**\n",
    "\n",
    "</font>\n"
   ]
  },
  {
   "cell_type": "markdown",
   "metadata": {},
   "source": [
    "<font color=#003d5c>\n",
    "\n",
    "## El constructor de clase\n",
    "</font> "
   ]
  },
  {
   "cell_type": "code",
   "execution_count": 1,
   "metadata": {},
   "outputs": [
    {
     "name": "stdout",
     "output_type": "stream",
     "text": [
      "Se creo el video The Avengers\n"
     ]
    }
   ],
   "source": [
    "class Video():\n",
    "    \n",
    "    # Constructor de clase\n",
    "    def __init__(self,titulo,duracion,lanzamiento):\n",
    "        self.titulo = titulo\n",
    "        self.duracion = duracion\n",
    "        self.lanzamiento = lanzamiento\n",
    "        print('Se creo el video', self.titulo)\n",
    "        \n",
    "v=Video('The Avengers',143,2012)"
   ]
  },
  {
   "cell_type": "markdown",
   "metadata": {},
   "source": [
    "<font color=#003d5c>\n",
    "\n",
    "## El destructor de clase\n",
    "</font> "
   ]
  },
  {
   "cell_type": "code",
   "execution_count": 2,
   "metadata": {},
   "outputs": [
    {
     "name": "stdout",
     "output_type": "stream",
     "text": [
      "Se creo el video The Avengers\n"
     ]
    }
   ],
   "source": [
    "class Video():\n",
    "  \n",
    "    def __init__(self,titulo,duracion,lanzamiento):\n",
    "        self.titulo = titulo\n",
    "        self.duracion = duracion\n",
    "        self.lanzamiento = lanzamiento\n",
    "        print('Se creo el video', self.titulo)\n",
    "     \n",
    "    # Destructor de clase\n",
    "    def __del__(self):\n",
    "        print('Se eliminó el video', self.titulo)\n",
    "        \n",
    "v=Video('The Avengers',143,2012)"
   ]
  },
  {
   "cell_type": "code",
   "execution_count": 3,
   "metadata": {},
   "outputs": [
    {
     "name": "stdout",
     "output_type": "stream",
     "text": [
      "Se eliminó el video The Avengers\n"
     ]
    }
   ],
   "source": [
    "del(v)"
   ]
  },
  {
   "cell_type": "markdown",
   "metadata": {},
   "source": [
    "<font color=#003d5c>\n",
    "\n",
    "## Métodos str() y len()\n",
    "</font> "
   ]
  },
  {
   "cell_type": "code",
   "execution_count": 4,
   "metadata": {},
   "outputs": [
    {
     "name": "stdout",
     "output_type": "stream",
     "text": [
      "Se creo el video The Avengers\n"
     ]
    }
   ],
   "source": [
    "v=Video('The Avengers',143,2012)"
   ]
  },
  {
   "cell_type": "code",
   "execution_count": 5,
   "metadata": {},
   "outputs": [
    {
     "data": {
      "text/plain": [
       "'<__main__.Video object at 0x00000240FCB0ACB0>'"
      ]
     },
     "execution_count": 5,
     "metadata": {},
     "output_type": "execute_result"
    }
   ],
   "source": [
    "str(v)"
   ]
  },
  {
   "cell_type": "code",
   "execution_count": 6,
   "metadata": {},
   "outputs": [
    {
     "name": "stdout",
     "output_type": "stream",
     "text": [
      "Se creo el video Black Panther\n"
     ]
    }
   ],
   "source": [
    "class Video():\n",
    "    def __init__(self,titulo,duracion,lanzamiento):\n",
    "        self.titulo = titulo\n",
    "        self.duracion = duracion\n",
    "        self.lanzamiento = lanzamiento\n",
    "        print('Se creo el video', self.titulo)\n",
    "     \n",
    "    def __del__(self):\n",
    "        print('Se eliminó el video', self.titulo)\n",
    "    \n",
    "    # Redefinimos str para que muestre la información del video\n",
    "    def __str__(self):\n",
    "        return f\"{self.titulo} publicado en {self.lanzamiento} con una duración de {self.duracion} minutos\"\n",
    "        \n",
    "c=Video(\"Black Panther\", 134,2018)"
   ]
  },
  {
   "cell_type": "code",
   "execution_count": 7,
   "metadata": {},
   "outputs": [
    {
     "data": {
      "text/plain": [
       "'Black Panther publicado en 2018 con una duración de 134 minutos'"
      ]
     },
     "execution_count": 7,
     "metadata": {},
     "output_type": "execute_result"
    }
   ],
   "source": [
    "str(c)"
   ]
  },
  {
   "cell_type": "code",
   "execution_count": 8,
   "metadata": {},
   "outputs": [
    {
     "ename": "TypeError",
     "evalue": "object of type 'Video' has no len()",
     "output_type": "error",
     "traceback": [
      "\u001b[1;31m---------------------------------------------------------------------------\u001b[0m",
      "\u001b[1;31mTypeError\u001b[0m                                 Traceback (most recent call last)",
      "Cell \u001b[1;32mIn[8], line 1\u001b[0m\n\u001b[1;32m----> 1\u001b[0m \u001b[38;5;28;43mlen\u001b[39;49m\u001b[43m(\u001b[49m\u001b[43mc\u001b[49m\u001b[43m)\u001b[49m\n",
      "\u001b[1;31mTypeError\u001b[0m: object of type 'Video' has no len()"
     ]
    }
   ],
   "source": [
    "len(c)"
   ]
  },
  {
   "cell_type": "code",
   "execution_count": 9,
   "metadata": {
    "scrolled": true
   },
   "outputs": [],
   "source": [
    "class Video():\n",
    "    def __init__(self,titulo,duracion,lanzamiento):\n",
    "        self.titulo = titulo\n",
    "        self.duracion = duracion\n",
    "        self.lanzamiento = lanzamiento\n",
    "        print('Se creo el video', self.titulo)\n",
    "    \n",
    "    def __str__(self):\n",
    "        return f\"{self.titulo} publicado en {self.lanzamiento} con una duración de {self.duracion} minutos\"\n",
    "        \n",
    "    # Redefinimos el método len() para que devuelva la duración del video\n",
    "    def __len__(self):\n",
    "        return self.duracion\n",
    "    \n",
    "    def __del__(self):\n",
    "        print('Se eliminó el video', self.titulo)"
   ]
  },
  {
   "cell_type": "code",
   "execution_count": 10,
   "metadata": {},
   "outputs": [
    {
     "name": "stdout",
     "output_type": "stream",
     "text": [
      "Se creo el video The Avengers\n",
      "Se eliminó el video The Avengers\n",
      "Se creo el video Black Panther\n",
      "Se eliminó el video Black Panther\n"
     ]
    }
   ],
   "source": [
    "v=Video('The Avengers',143,2012)\n",
    "        \n",
    "c=Video(\"Black Panther\",134,2018)"
   ]
  },
  {
   "cell_type": "code",
   "execution_count": 11,
   "metadata": {},
   "outputs": [
    {
     "data": {
      "text/plain": [
       "'The Avengers publicado en 2012 con una duración de 143 minutos'"
      ]
     },
     "execution_count": 11,
     "metadata": {},
     "output_type": "execute_result"
    }
   ],
   "source": [
    "str(v)"
   ]
  },
  {
   "cell_type": "code",
   "execution_count": 12,
   "metadata": {},
   "outputs": [
    {
     "data": {
      "text/plain": [
       "143"
      ]
     },
     "execution_count": 12,
     "metadata": {},
     "output_type": "execute_result"
    }
   ],
   "source": [
    "len(v)"
   ]
  },
  {
   "cell_type": "code",
   "execution_count": 13,
   "metadata": {
    "scrolled": true
   },
   "outputs": [
    {
     "data": {
      "text/plain": [
       "134"
      ]
     },
     "execution_count": 13,
     "metadata": {},
     "output_type": "execute_result"
    }
   ],
   "source": [
    "len(c)"
   ]
  },
  {
   "cell_type": "code",
   "execution_count": null,
   "metadata": {},
   "outputs": [],
   "source": []
  }
 ],
 "metadata": {
  "kernelspec": {
   "display_name": "Python 3 (ipykernel)",
   "language": "python",
   "name": "python3"
  },
  "language_info": {
   "codemirror_mode": {
    "name": "ipython",
    "version": 3
   },
   "file_extension": ".py",
   "mimetype": "text/x-python",
   "name": "python",
   "nbconvert_exporter": "python",
   "pygments_lexer": "ipython3",
   "version": "3.10.9"
  }
 },
 "nbformat": 4,
 "nbformat_minor": 4
}
