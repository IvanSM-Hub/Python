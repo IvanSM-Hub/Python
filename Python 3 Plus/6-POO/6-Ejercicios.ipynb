{
 "cells": [
  {
   "cell_type": "markdown",
   "metadata": {},
   "source": [
    "<font color=Green>\n",
    "    \n",
    "# **7.6 Ejercicios**\n",
    "\n",
    "</font>\n",
    "\n",
    "### Crea una clase llamada _Punto_ con sus dos coordenadas X y Y.\n",
    "+ Añade un método constructor para crear puntos, si no se recibe una coordenada, su valor será cero.\n",
    "+ Redefine el método string para que al imprimir por pantalla el punto aparezca en formato (X,Y)\n",
    "+ Define el método Cuadrante que indique a qué cuadrante pertenece el punto: \n",
    "<img src=\"https://robertoramirezblog.weebly.com/uploads/8/7/2/9/87295088/e70d9bdcdcab6e673b2c0356a02bdf6f_orig.jpg\">\n",
    "+ Define el método Vector, cuyos parámetros sean otro par de coordenadas y que calcule el vector que une los dos puntos.\n",
    "<img src=\"https://encrypted-tbn0.gstatic.com/images?q=tbn%3AANd9GcQGsL80EM7IlKq2eMT8Y98Niw8WvV14l54aag&usqp=CAU\">\n",
    "+ Define el método Distancia, cuyos parámetros sean otro par de coordenadas y que calcule la distancia entre los dos puntos y la muestre por pantalla. \n",
    "<img src=\"https://www.matesfacil.com/BAC/geometria2D/puntos/t6.png\">\n",
    "\n",
    "<font color=#003d5c>\n",
    "  \n",
    "> PROTIP: En Python, la función raíz cuadrada se debe importar del módulo math y se llama sqrt().\n",
    "</font>\n",
    "    "
   ]
  },
  {
   "cell_type": "code",
   "execution_count": 2,
   "metadata": {},
   "outputs": [],
   "source": [
    "import math\n",
    "class punto:\n",
    "    \n",
    "    def __init__(self,x=0,y=0):\n",
    "        self.x=x\n",
    "        self.y=y\n",
    "    \n",
    "    def __str__(self):\n",
    "        return f\"({self.x},{self.y})\"\n",
    "    \n",
    "    def cuadrante(self):\n",
    "        if self.x>0 and self.y>0 :\n",
    "            print(f\"{self} pertenece al primer cuadrante\")\n",
    "        elif self.x<0 and self.y>0 :\n",
    "            print(f\"{self} pertenece al segundo cuadrante\")\n",
    "        elif self.x<0 and self.y<0 :\n",
    "            print(f\"{self} pertenece al tercer cuadrante\")\n",
    "        elif self.x>0 and self.y<0 :\n",
    "            print(f\"{self} pertenece al cuarto cuadrante\")\n",
    "        elif self.x==0 and self.y!=0 :\n",
    "            print(f\"{self} está sobre el eje y\")\n",
    "        elif self.x!=0 and self.y==0 :\n",
    "            print(f\"{self} está sobre el eje x\")\n",
    "            \n",
    "    def vector(self,p) :\n",
    "        print(f\"El vector que une los puntos {self} y {p} es igual a {p.x-self.x}, {p.y-self.y}\")\n",
    "    \n",
    "    def distancia(self,p) :\n",
    "        mod = math.sqrt((p.x-self.x)**2 + (p.y-self.y)**2)\n",
    "        print(f\"La distancia entre los puntos {self} y {p} es {mod}\")"
   ]
  },
  {
   "cell_type": "code",
   "execution_count": 3,
   "metadata": {},
   "outputs": [],
   "source": [
    "a=punto(5,8)\n",
    "b=punto(10,2)\n",
    "c=punto(4,6)"
   ]
  },
  {
   "cell_type": "code",
   "execution_count": 4,
   "metadata": {
    "scrolled": true
   },
   "outputs": [
    {
     "name": "stdout",
     "output_type": "stream",
     "text": [
      "(-8,4) pertenece al segundo cuadrante\n"
     ]
    }
   ],
   "source": [
    "d=punto(-8,4)\n",
    "d.cuadrante()"
   ]
  },
  {
   "cell_type": "code",
   "execution_count": 5,
   "metadata": {},
   "outputs": [
    {
     "name": "stdout",
     "output_type": "stream",
     "text": [
      "El vector que une los puntos (5,8) y (-8,4) es igual a -13, -4\n"
     ]
    }
   ],
   "source": [
    "a.vector(d)"
   ]
  },
  {
   "cell_type": "code",
   "execution_count": 6,
   "metadata": {},
   "outputs": [
    {
     "name": "stdout",
     "output_type": "stream",
     "text": [
      "La distancia entre los puntos (5,8) y (-8,4) es 13.601470508735444\n"
     ]
    }
   ],
   "source": [
    "a.distancia(d)"
   ]
  },
  {
   "cell_type": "markdown",
   "metadata": {},
   "source": [
    "### Crea una clase llamada _Rectangulo_ con dos puntos (inicial y final) que formarán la diagonal del rectángulo.\n",
    "+ Añade un método constructor para crear ambos puntos fácilmente, si no se envían se crearán dos puntos en el origen por defecto.\n",
    "+ Añade al rectángulo un método llamado Mostrar_base que muestre la base.\n",
    "+ Añade al rectángulo un método llamado Mostrar_altura que muestre la altura.\n",
    "+ Añade al rectángulo un método llamado Mostrar_area que muestre el area."
   ]
  },
  {
   "cell_type": "code",
   "execution_count": 12,
   "metadata": {},
   "outputs": [],
   "source": [
    "class Rectangulo:\n",
    "    def __init__(self,ini=punto(0,0),fin=punto(0,0)):\n",
    "        self.ini=ini\n",
    "        self.fin=fin\n",
    "        self.base=abs(self.fin.x - self.ini.x)\n",
    "        self.altura=abs(self.fin.y - self.ini.y)\n",
    "        self.area=self.base*self.altura\n",
    "    \n",
    "    def mostrar_base(self):\n",
    "        print(f\"La base del rectángulo es {self.base}\")\n",
    "    def mostrar_altura(self):\n",
    "        print(f\"La base del rectángulo es {self.altura}\")\n",
    "    def mostrar_area(self):\n",
    "        print(f\"La base del rectángulo es {self.area}\")\n",
    "    "
   ]
  },
  {
   "cell_type": "code",
   "execution_count": 13,
   "metadata": {},
   "outputs": [],
   "source": [
    "rec=Rectangulo(a,c)"
   ]
  },
  {
   "cell_type": "code",
   "execution_count": 14,
   "metadata": {},
   "outputs": [
    {
     "name": "stdout",
     "output_type": "stream",
     "text": [
      "La base del rectángulo es 1\n",
      "La base del rectángulo es 2\n",
      "La base del rectángulo es 2\n"
     ]
    }
   ],
   "source": [
    "rec.mostrar_base()\n",
    "rec.mostrar_altura()\n",
    "rec.mostrar_area()"
   ]
  }
 ],
 "metadata": {
  "kernelspec": {
   "display_name": "Python 3 (ipykernel)",
   "language": "python",
   "name": "python3"
  },
  "language_info": {
   "codemirror_mode": {
    "name": "ipython",
    "version": 3
   },
   "file_extension": ".py",
   "mimetype": "text/x-python",
   "name": "python",
   "nbconvert_exporter": "python",
   "pygments_lexer": "ipython3",
   "version": "3.10.9"
  }
 },
 "nbformat": 4,
 "nbformat_minor": 4
}
