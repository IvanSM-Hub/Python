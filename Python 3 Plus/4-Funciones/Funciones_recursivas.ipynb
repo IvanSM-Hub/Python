{
 "cells": [
  {
   "cell_type": "markdown",
   "metadata": {},
   "source": [
    "<font color=Green>\n",
    "    \n",
    "# **5.5 _Funciones recursivas_**\n",
    "\n",
    "</font>\n",
    "\n",
    "### Una función recursiva una función que se utiliza a sí misma en el mismo cuerpo de su definición."
   ]
  },
  {
   "cell_type": "code",
   "execution_count": 1,
   "metadata": {
    "scrolled": true
   },
   "outputs": [
    {
     "name": "stdout",
     "output_type": "stream",
     "text": [
      "4\n",
      "3\n",
      "2\n",
      "1\n",
      "0 boom\n",
      "Fin de función  0\n",
      "Fin de función  1\n",
      "Fin de función  2\n",
      "Fin de función  3\n",
      "Fin de función  4\n"
     ]
    }
   ],
   "source": [
    "def cuenta_atras(num):\n",
    "    num -= 1\n",
    "    if num > 0:\n",
    "        print(num)\n",
    "        cuenta_atras(num)\n",
    "    else:\n",
    "        print(num, \"boom\")\n",
    "    print(\"Fin de función \", num)    \n",
    "\n",
    "cuenta_atras(5)"
   ]
  },
  {
   "cell_type": "code",
   "execution_count": 2,
   "metadata": {
    "scrolled": false
   },
   "outputs": [
    {
     "name": "stdout",
     "output_type": "stream",
     "text": [
      "Valor inicial ---> 5\n",
      "Valor inicial ---> 4\n",
      "Valor inicial ---> 3\n",
      "Valor inicial ---> 2\n",
      "Valor inicial ---> 1\n",
      "Valor final ---> 1\n",
      "Valor final ---> 2\n",
      "Valor final ---> 6\n",
      "Valor final ---> 24\n",
      "Valor final ---> 120\n"
     ]
    },
    {
     "data": {
      "text/plain": [
       "120"
      ]
     },
     "execution_count": 2,
     "metadata": {},
     "output_type": "execute_result"
    }
   ],
   "source": [
    "def factorial(num):\n",
    "    print(\"Valor inicial --->\", num)\n",
    "    if num > 1:\n",
    "        num = num * factorial(num-1)\n",
    "    print(\"Valor final --->\", num)\n",
    "    return num\n",
    "\n",
    "factorial(5)"
   ]
  }
 ],
 "metadata": {
  "kernelspec": {
   "display_name": "Python 3 (ipykernel)",
   "language": "python",
   "name": "python3"
  },
  "language_info": {
   "codemirror_mode": {
    "name": "ipython",
    "version": 3
   },
   "file_extension": ".py",
   "mimetype": "text/x-python",
   "name": "python",
   "nbconvert_exporter": "python",
   "pygments_lexer": "ipython3",
   "version": "3.10.9"
  }
 },
 "nbformat": 4,
 "nbformat_minor": 4
}
