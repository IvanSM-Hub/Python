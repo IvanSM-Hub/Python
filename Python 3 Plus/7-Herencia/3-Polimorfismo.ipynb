{
 "cells": [
  {
   "cell_type": "markdown",
   "metadata": {},
   "source": [
    "<font color=Green>\n",
    "    \n",
    "# **8.3 Polimorfismo**\n",
    "</font>\n",
    "\n",
    "### El polimorfismo es una propiedad de la herencia que permite que objetos de distintas clases puedan responder a la misma acción/llamada\n",
    "### En Python todas las clases son polimórficas por defecto ya que todas las clases son subclases de una superclase llamada Object"
   ]
  },
  {
   "cell_type": "code",
   "execution_count": 1,
   "metadata": {},
   "outputs": [],
   "source": [
    "class Producto:\n",
    "    def __init__(self, ref, nombre, pvp,  descripcion):\n",
    "        self.ref = ref\n",
    "        self.nombre = nombre\n",
    "        self.pvp = pvp\n",
    "        self.descripcion = descripcion\n",
    "                \n",
    "    def __str__(self):\n",
    "        return f\"Referencia:\\t {self.ref}\\n\" \\\n",
    "               f\"Nombre:\\t\\t {self.nombre}\\n\" \\\n",
    "               f\"PVP:\\t\\t {self.pvp}\\n\" \\\n",
    "               f\"Descripción:\\t {self.descripcion}\\n\"\n",
    "    \n",
    "class Combo(Producto):\n",
    "    pass\n",
    "\n",
    "class Ropa(Producto):\n",
    "    marca = \"\"\n",
    "    categoria = \"\"\n",
    "    talla = \"\"\n",
    "    \n",
    "    def __str__(self):\n",
    "            return f\"Referencia:\\t {self.ref}\\n\" \\\n",
    "                   f\"Nombre:\\t\\t {self.nombre}\\n\" \\\n",
    "                   f\"PVP:\\t\\t {self.pvp}\\n\" \\\n",
    "                   f\"Descripción:\\t {self.descripcion}\\n\" \\\n",
    "                   f\"Marca:\\t\\t {self.marca}\\n\" \\\n",
    "                   f\"Categoria:\\t {self.categoria}\\n\" \\\n",
    "                   f\"Talla:\\t\\t {self.talla}\\n\"\n",
    "\n",
    "\n",
    "class Alimento(Producto):\n",
    "    marca = \"\"\n",
    "    categoria = \"\"\n",
    "\n",
    "    def __str__(self):\n",
    "            return f\"Referencia:\\t {self.ref}\\n\" \\\n",
    "                   f\"Nombre:\\t\\t {self.nombre}\\n\" \\\n",
    "                   f\"PVP:\\t\\t {self.pvp}\\n\" \\\n",
    "                   f\"Descripción:\\t {self.descripcion}\\n\" \\\n",
    "                   f\"Marca:\\t\\t {self.marca} \\n\" \\\n",
    "                   f\"Categoria:\\t {self.categoria}\\n\""
   ]
  },
  {
   "cell_type": "code",
   "execution_count": 2,
   "metadata": {},
   "outputs": [],
   "source": [
    "combo_1 = Combo('70010','Combo 1',150,'Harina de maíz (1Kg), Carne de res (2Kg), Detergente para ropa (500g)')\n",
    "\n",
    "pant_1 =Ropa(\"20001\", \"Pantalón\",200,\"Stretch Color rojo\")\n",
    "pant_1.marca =\"Levi's\"\n",
    "pant_1.categoria = \"Dama\"\n",
    "pant_1.talla = 30\n",
    "\n",
    "harina = Alimento(10001, \"Harina de Maíz\", 30, \"Harina precocida (1kg)\")\n",
    "harina.marca = \"Nestlé\"\n",
    "harina.categoria = \"Cereales\"\n"
   ]
  },
  {
   "cell_type": "code",
   "execution_count": 4,
   "metadata": {},
   "outputs": [],
   "source": [
    "productos = [combo_1, harina]"
   ]
  },
  {
   "cell_type": "code",
   "execution_count": 5,
   "metadata": {},
   "outputs": [],
   "source": [
    "productos.append(pant_1)"
   ]
  },
  {
   "cell_type": "code",
   "execution_count": 6,
   "metadata": {},
   "outputs": [
    {
     "data": {
      "text/plain": [
       "[<__main__.Combo at 0x2300882fdc0>,\n",
       " <__main__.Alimento at 0x2300882e950>,\n",
       " <__main__.Ropa at 0x2300882c430>]"
      ]
     },
     "execution_count": 6,
     "metadata": {},
     "output_type": "execute_result"
    }
   ],
   "source": [
    "productos"
   ]
  },
  {
   "cell_type": "code",
   "execution_count": 7,
   "metadata": {},
   "outputs": [
    {
     "name": "stdout",
     "output_type": "stream",
     "text": [
      "70010 Combo 1\n",
      "10001 Harina de Maíz\n",
      "20001 Pantalón\n"
     ]
    }
   ],
   "source": [
    "for p in productos:\n",
    "    print(p.ref,p.nombre)"
   ]
  },
  {
   "cell_type": "code",
   "execution_count": 8,
   "metadata": {},
   "outputs": [
    {
     "ename": "AttributeError",
     "evalue": "'Combo' object has no attribute 'marca'",
     "output_type": "error",
     "traceback": [
      "\u001b[1;31m---------------------------------------------------------------------------\u001b[0m",
      "\u001b[1;31mAttributeError\u001b[0m                            Traceback (most recent call last)",
      "Cell \u001b[1;32mIn[8], line 2\u001b[0m\n\u001b[0;32m      1\u001b[0m \u001b[38;5;28;01mfor\u001b[39;00m p \u001b[38;5;129;01min\u001b[39;00m productos:\n\u001b[1;32m----> 2\u001b[0m     \u001b[38;5;28mprint\u001b[39m(\u001b[43mp\u001b[49m\u001b[38;5;241;43m.\u001b[39;49m\u001b[43mmarca\u001b[49m)\n",
      "\u001b[1;31mAttributeError\u001b[0m: 'Combo' object has no attribute 'marca'"
     ]
    }
   ],
   "source": [
    "for p in productos:\n",
    "    print(p.marca)"
   ]
  },
  {
   "cell_type": "code",
   "execution_count": 9,
   "metadata": {},
   "outputs": [
    {
     "data": {
      "text/plain": [
       "False"
      ]
     },
     "execution_count": 9,
     "metadata": {},
     "output_type": "execute_result"
    }
   ],
   "source": [
    "isinstance(combo_1,int)"
   ]
  },
  {
   "cell_type": "code",
   "execution_count": 10,
   "metadata": {},
   "outputs": [
    {
     "name": "stdout",
     "output_type": "stream",
     "text": [
      "70010 Combo 1\n",
      "10001 Harina de Maíz Nestlé\n",
      "20001 Pantalón 30\n"
     ]
    }
   ],
   "source": [
    "for p in productos:\n",
    "    if ( isinstance(p,Combo) ):\n",
    "        print(p.ref,p.nombre)\n",
    "    elif (isinstance(p,Ropa)):\n",
    "        print(p.ref,p.nombre,p.talla)\n",
    "    elif (isinstance(p,Alimento)):\n",
    "        print(p.ref,p.nombre,p.marca)"
   ]
  },
  {
   "cell_type": "code",
   "execution_count": 11,
   "metadata": {
    "scrolled": true
   },
   "outputs": [
    {
     "name": "stdout",
     "output_type": "stream",
     "text": [
      "Referencia:\t 20001\n",
      "Nombre:\t\t Pantalón\n",
      "PVP:\t\t 160.0\n",
      "Descripción:\t Stretch Color rojo\n",
      "Marca:\t\t Levi's\n",
      "Categoria:\t Dama\n",
      "Talla:\t\t 30\n",
      "\n"
     ]
    }
   ],
   "source": [
    "def descuento(p, rebaja): #Función que devuelve un producto con un descuento en su precio\n",
    "    p.pvp = p.pvp - (p.pvp*(rebaja/100))\n",
    "    return p\n",
    "\n",
    "pantalon_desc = descuento(pant_1, 20)\n",
    "print(pantalon_desc)"
   ]
  },
  {
   "cell_type": "code",
   "execution_count": 12,
   "metadata": {},
   "outputs": [
    {
     "name": "stdout",
     "output_type": "stream",
     "text": [
      "Referencia:\t 20001\n",
      "Nombre:\t\t Pantalón\n",
      "PVP:\t\t 160.0\n",
      "Descripción:\t Stretch Color rojo\n",
      "Marca:\t\t Levi's\n",
      "Categoria:\t Dama\n",
      "Talla:\t\t 30\n",
      "\n",
      "Referencia:\t 20001\n",
      "Nombre:\t\t Pantalón\n",
      "PVP:\t\t 160.0\n",
      "Descripción:\t Stretch Color rojo\n",
      "Marca:\t\t Levi's\n",
      "Categoria:\t Dama\n",
      "Talla:\t\t 30\n",
      "\n"
     ]
    }
   ],
   "source": [
    "print(pant_1)\n",
    "print(pantalon_desc)"
   ]
  },
  {
   "cell_type": "code",
   "execution_count": 13,
   "metadata": {},
   "outputs": [],
   "source": [
    "copia_pant = pant_1"
   ]
  },
  {
   "cell_type": "code",
   "execution_count": 14,
   "metadata": {},
   "outputs": [],
   "source": [
    "copia_pant.marca = \"Nike\""
   ]
  },
  {
   "cell_type": "code",
   "execution_count": 15,
   "metadata": {},
   "outputs": [
    {
     "name": "stdout",
     "output_type": "stream",
     "text": [
      "Referencia:\t 20001\n",
      "Nombre:\t\t Pantalón\n",
      "PVP:\t\t 160.0\n",
      "Descripción:\t Stretch Color rojo\n",
      "Marca:\t\t Nike\n",
      "Categoria:\t Dama\n",
      "Talla:\t\t 30\n",
      "\n",
      "Referencia:\t 20001\n",
      "Nombre:\t\t Pantalón\n",
      "PVP:\t\t 160.0\n",
      "Descripción:\t Stretch Color rojo\n",
      "Marca:\t\t Nike\n",
      "Categoria:\t Dama\n",
      "Talla:\t\t 30\n",
      "\n"
     ]
    }
   ],
   "source": [
    "print(pant_1)\n",
    "print(copia_pant)"
   ]
  },
  {
   "cell_type": "markdown",
   "metadata": {},
   "source": [
    "<font color=#003d5c>\n",
    "\n",
    "# _Módulo copy_\n",
    "</font>"
   ]
  },
  {
   "cell_type": "code",
   "execution_count": 16,
   "metadata": {},
   "outputs": [
    {
     "name": "stdout",
     "output_type": "stream",
     "text": [
      "Referencia:\t 20001\n",
      "Nombre:\t\t Pantalón\n",
      "PVP:\t\t 160.0\n",
      "Descripción:\t Stretch Color rojo\n",
      "Marca:\t\t Nike\n",
      "Categoria:\t Dama\n",
      "Talla:\t\t 30\n",
      "\n"
     ]
    }
   ],
   "source": [
    "import copy\n",
    "\n",
    "copia_pant = copy.copy(pant_1)\n",
    "print(copia_pant)"
   ]
  },
  {
   "cell_type": "code",
   "execution_count": 17,
   "metadata": {},
   "outputs": [
    {
     "name": "stdout",
     "output_type": "stream",
     "text": [
      "Referencia:\t 20001\n",
      "Nombre:\t\t Pantalón\n",
      "PVP:\t\t 500\n",
      "Descripción:\t Stretch Color rojo\n",
      "Marca:\t\t Nike\n",
      "Categoria:\t Dama\n",
      "Talla:\t\t 30\n",
      "\n",
      "Referencia:\t 20001\n",
      "Nombre:\t\t Pantalón\n",
      "PVP:\t\t 160.0\n",
      "Descripción:\t Stretch Color rojo\n",
      "Marca:\t\t Nike\n",
      "Categoria:\t Dama\n",
      "Talla:\t\t 30\n",
      "\n"
     ]
    }
   ],
   "source": [
    "copia_pant.pvp=500\n",
    "print(copia_pant)\n",
    "print(pant_1)"
   ]
  },
  {
   "cell_type": "code",
   "execution_count": null,
   "metadata": {},
   "outputs": [],
   "source": []
  }
 ],
 "metadata": {
  "kernelspec": {
   "display_name": "Python 3 (ipykernel)",
   "language": "python",
   "name": "python3"
  },
  "language_info": {
   "codemirror_mode": {
    "name": "ipython",
    "version": 3
   },
   "file_extension": ".py",
   "mimetype": "text/x-python",
   "name": "python",
   "nbconvert_exporter": "python",
   "pygments_lexer": "ipython3",
   "version": "3.10.9"
  }
 },
 "nbformat": 4,
 "nbformat_minor": 4
}
