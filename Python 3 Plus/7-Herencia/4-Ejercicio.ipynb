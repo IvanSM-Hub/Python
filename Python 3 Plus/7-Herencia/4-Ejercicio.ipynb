{
 "cells": [
  {
   "cell_type": "markdown",
   "metadata": {},
   "source": [
    "<font color=Green>\n",
    "    \n",
    "# **8.4 Ejercicio**\n",
    "</font>\n",
    "\n",
    "### 1) Crea una superclase llamada Vehículo cuyos atributos sean Color y Ruedas. Redefine el método _str_ para que devuelva por pantalla:\n",
    "> __Color: {El color del vehículo}, {Cantidad de ruedas} ruedas__. \n",
    "### Crea una subclase llamada Carro y agrega los atributos Velocidad, Cilindraje. Redefine el método _str_ para que devuelva por pantalla \n",
    "> __Color: {El color del vehículo}, {Velocidad} Km/h, {Cantidad de ruedas} ruedas, {Cilindraje} cc\".__"
   ]
  },
  {
   "cell_type": "code",
   "execution_count": 5,
   "metadata": {},
   "outputs": [
    {
     "name": "stdout",
     "output_type": "stream",
     "text": [
      "Color: azul, 150 Km/h, 4 ruedas, 1200 cc\n"
     ]
    }
   ],
   "source": [
    "class Vehiculo():\n",
    "    def __init__(self,color,ruedas):\n",
    "        self.color=color\n",
    "        self.ruedas=ruedas\n",
    "    def __str__(self):\n",
    "        return \"color: {}, {} ruedas.\".format(self.color,self.ruedas)\n",
    "    \n",
    "class Coche(Vehiculo):\n",
    "    def __init__(self,color,ruedas,velocidad,cilindraje):\n",
    "        self.color=color\n",
    "        self.ruedas=ruedas\n",
    "        self.velocidad=velocidad\n",
    "        self.cilindraje=cilindraje\n",
    "    def __str__(self):\n",
    "        return \"Color: {}, {} Km/h, {} ruedas, {} cc\".format(self.color,self.velocidad,self.ruedas,self.cilindraje)\n",
    "\n",
    "toyota = Coche(\"azul\", 4, 150, 1200)\n",
    "print(toyota)"
   ]
  },
  {
   "cell_type": "code",
   "execution_count": 10,
   "metadata": {},
   "outputs": [
    {
     "name": "stdout",
     "output_type": "stream",
     "text": [
      "color: azul, 4 ruedas., 150 Km/h, 1200 cc\n"
     ]
    }
   ],
   "source": [
    "class Vehiculo():\n",
    "    def __init__(self,color,ruedas):\n",
    "        self.color=color\n",
    "        self.ruedas=ruedas\n",
    "    def __str__(self):\n",
    "        return \"color: {}, {} ruedas.\".format(self.color,self.ruedas)\n",
    "    \n",
    "class Coche(Vehiculo):\n",
    "    def __init__(self,color,ruedas,velocidad,cilindraje):\n",
    "        Vehiculo.__init__(self,color,ruedas)\n",
    "        self.velocidad=velocidad\n",
    "        self.cilindraje=cilindraje\n",
    "    \n",
    "    def __str__(self):\n",
    "        return Vehiculo.__str__(self)+ \", {} Km/h, {} cc\".format(self.velocidad,self.cilindraje)\n",
    "\n",
    "toyota = Coche(\"azul\", 4, 150, 1200)\n",
    "print(toyota)"
   ]
  },
  {
   "cell_type": "markdown",
   "metadata": {},
   "source": [
    "### 2) Extiende las subclases siguiendo el siguiente esquema:\n",
    "<img src=\"https://pbs.twimg.com/media/EloOi68XYAEPK8u?format=png&name=900x900\">\n",
    "\n",
    "> PROTIP: Utiliza la función super()\n",
    "\n",
    "+ Crea al menos un objeto de cada subclase y añádelos a una lista llamada Vehiculos.\n",
    "+ Define una función llamada catalogar() que reciba un argumento optativo ruedas. La idea es que muestre únicamente los vehiculos cuyo número de ruedas coincida con el valor del argumento. Debe mostrar el siguiente mensaje solo si se envía el argumento ruedas:\n",
    "> __Se han encontrado {} vehículos con {} ruedas:__"
   ]
  },
  {
   "cell_type": "code",
   "execution_count": 1,
   "metadata": {},
   "outputs": [],
   "source": [
    "class Vehiculo():\n",
    "    def __init__(self,color,ruedas):\n",
    "        self.color=color\n",
    "        self.ruedas=ruedas\n",
    "    def __str__(self):\n",
    "        return \"color: {}, {} ruedas.\".format(self.color,self.ruedas)\n",
    "    \n",
    "class Coche(Vehiculo):\n",
    "    def __init__(self,color,ruedas,velocidad,cilindraje):\n",
    "        super().__init__(color,ruedas)\n",
    "        self.velocidad=velocidad\n",
    "        self.cilindraje=cilindraje\n",
    "    def __str__(self):\n",
    "        return super().__str__()+ \", {} Km/h, {} cc\".format(self.velocidad,self.cilindraje)\n",
    "\n",
    "class Camioneta(Coche):\n",
    "    def __init__(self,color,ruedas,velocidad,cilindraje,carga):\n",
    "        super().__init__(color,ruedas,velocidad,cilindraje)\n",
    "        self.carga=carga\n",
    "    def __str__(self):\n",
    "        return super().__str__() + \", {}Kg de carga\".format(self.carga)\n",
    "    \n",
    "class Bicicleta(Vehiculo):\n",
    "    def __init__(self,color,ruedas,tipo):\n",
    "        super().__init__(color,ruedas)\n",
    "        self.tipo=tipo\n",
    "    def __str__(self):\n",
    "        return super().__str__() + \", de tipo {}\".format(self.tipo)\n",
    "\n",
    "class Moto(Bicicleta):\n",
    "    def __init__(self,color,ruedas,tipo,velocidad,cilindraje):\n",
    "        super().__init__(color,ruedas,tipo)\n",
    "        self.velocidad=velocidad\n",
    "        self.cilindraje=cilindraje\n",
    "    def __str__(self):\n",
    "        return super().__str__()+ \", {} Km/h, {} cc\".format(self.velocidad,self.cilindraje)\n",
    "    \n",
    "def catalogar(vehiculos, ruedas=None):\n",
    "    if ruedas!=None:\n",
    "        contador=0\n",
    "        for i in vehiculos:\n",
    "            if i.ruedas==ruedas:\n",
    "                contador+=1\n",
    "        print(\"\\nSe han encontrado {} vehúculos con {} ruedas:\".format(contador,ruedas))\n",
    "    for i in vehiculos:\n",
    "        if ruedas==None:\n",
    "            print(type(i).__name__, i)\n",
    "        else:\n",
    "            if i.ruedas==ruedas:\n",
    "                print(type(i).__name__, i)\n",
    "                \n",
    "vehiculos=[\n",
    "    Coche(\"azul\",4,150,1200),\n",
    "    Camioneta(\"Blanco\",4,100,1300,1500),\n",
    "    Bicicleta(\"Verde\",2,\"Urbana\"),\n",
    "    Moto(\"Negro\",2,\"deportiva\",180,900)\n",
    "]"
   ]
  },
  {
   "cell_type": "code",
   "execution_count": 2,
   "metadata": {},
   "outputs": [
    {
     "name": "stdout",
     "output_type": "stream",
     "text": [
      "Coche color: azul, 4 ruedas., 150 Km/h, 1200 cc\n",
      "Camioneta color: Blanco, 4 ruedas., 100 Km/h, 1300 cc, 1500Kg de carga\n",
      "Bicicleta color: Verde, 2 ruedas., de tipo Urbana\n",
      "Moto color: Negro, 2 ruedas., de tipo deportiva, 180 Km/h, 900 cc\n"
     ]
    }
   ],
   "source": [
    "catalogar(vehiculos)"
   ]
  }
 ],
 "metadata": {
  "kernelspec": {
   "display_name": "Python 3 (ipykernel)",
   "language": "python",
   "name": "python3"
  },
  "language_info": {
   "codemirror_mode": {
    "name": "ipython",
    "version": 3
   },
   "file_extension": ".py",
   "mimetype": "text/x-python",
   "name": "python",
   "nbconvert_exporter": "python",
   "pygments_lexer": "ipython3",
   "version": "3.10.9"
  }
 },
 "nbformat": 4,
 "nbformat_minor": 4
}
