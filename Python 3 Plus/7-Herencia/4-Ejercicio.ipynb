{
 "cells": [
  {
   "cell_type": "markdown",
   "metadata": {},
   "source": [
    "<font color=Green>\n",
    "    \n",
    "# **8.4 Ejercicio**\n",
    "</font>\n",
    "\n",
    "### 1) Crea una superclase llamada Vehículo cuyos atributos sean Color y Ruedas. Redefine el método _str_ para que devuelva por pantalla:\n",
    "> __Color: {El color del vehículo}, {Cantidad de ruedas} ruedas__. \n",
    "### Crea una subclase llamada Carro y agrega los atributos Velocidad, Cilindraje. Redefine el método _str_ para que devuelva por pantalla \n",
    "> __Color: {El color del vehículo}, {Velocidad} Km/h, {Cantidad de ruedas} ruedas, {Cilindraje} cc\".__"
   ]
  },
  {
   "cell_type": "code",
   "execution_count": null,
   "metadata": {},
   "outputs": [],
   "source": []
  },
  {
   "cell_type": "markdown",
   "metadata": {},
   "source": [
    "### 2) Extiende las subclases siguiendo el siguiente esquema:\n",
    "<img src=\"https://pbs.twimg.com/media/EloOi68XYAEPK8u?format=png&name=900x900\">\n",
    "\n",
    "> PROTIP: Utiliza la función super()\n",
    "\n",
    "+ Crea al menos un objeto de cada subclase y añádelos a una lista llamada Vehiculos.\n",
    "+ Define una función llamada catalogar() que reciba un argumento optativo ruedas. La idea es que muestre únicamente los vehiculos cuyo número de ruedas coincida con el valor del argumento. Debe mostrar el siguiente mensaje solo si se envía el argumento ruedas:\n",
    "> __Se han encontrado {} vehículos con {} ruedas:__"
   ]
  },
  {
   "cell_type": "code",
   "execution_count": null,
   "metadata": {},
   "outputs": [],
   "source": []
  }
 ],
 "metadata": {
  "kernelspec": {
   "display_name": "Python 3 (ipykernel)",
   "language": "python",
   "name": "python3"
  },
  "language_info": {
   "codemirror_mode": {
    "name": "ipython",
    "version": 3
   },
   "file_extension": ".py",
   "mimetype": "text/x-python",
   "name": "python",
   "nbconvert_exporter": "python",
   "pygments_lexer": "ipython3",
   "version": "3.10.9"
  }
 },
 "nbformat": 4,
 "nbformat_minor": 4
}
