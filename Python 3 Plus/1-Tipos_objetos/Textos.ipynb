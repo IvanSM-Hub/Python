{
 "cells": [
  {
   "cell_type": "markdown",
   "id": "d1099eff",
   "metadata": {},
   "source": [
    "# 2.3 Textos o Hilos de caracteres:\n",
    "**Consisten en secuencias de caracteres dentro de comillas. En Python las variables String se pueden declarar indistintamente usando comillas simples ('') o dobles (\"\").**"
   ]
  },
  {
   "cell_type": "code",
   "execution_count": null,
   "id": "3e6d3911",
   "metadata": {},
   "outputs": [],
   "source": [
    "\"Esto es un texto o hilo\""
   ]
  },
  {
   "cell_type": "code",
   "execution_count": null,
   "id": "02d7f0b1",
   "metadata": {},
   "outputs": [],
   "source": [
    "nombre=\"Gloria\"\n",
    "\n",
    "carrera=\"Magistrado técnico superior en haberes PMC\"\n",
    "\n",
    "print(nombre)\n",
    "print(carrera)"
   ]
  },
  {
   "cell_type": "code",
   "execution_count": null,
   "id": "74c5584b",
   "metadata": {},
   "outputs": [],
   "source": [
    "type(nombre)"
   ]
  },
  {
   "cell_type": "markdown",
   "id": "f0e8673b",
   "metadata": {},
   "source": [
    "**Si solo llamamos a las variables nos mostrará la última declarada**"
   ]
  },
  {
   "cell_type": "code",
   "execution_count": null,
   "id": "f6c674c2",
   "metadata": {},
   "outputs": [],
   "source": [
    "nombre\n",
    "carrera"
   ]
  },
  {
   "cell_type": "markdown",
   "id": "9125a398",
   "metadata": {},
   "source": [
    "# Print()\n",
    "**Esta función nos permite mostrar por pantalla un texto y editar su presentación con tabulaciones y saltos de linea.**"
   ]
  },
  {
   "cell_type": "code",
   "execution_count": null,
   "id": "1d1fcf5b",
   "metadata": {},
   "outputs": [],
   "source": [
    "print(\"Una cadena \\tseparada por una tabulación\")"
   ]
  },
  {
   "cell_type": "code",
   "execution_count": 2,
   "id": "c1773aaf",
   "metadata": {},
   "outputs": [
    {
     "name": "stdout",
     "output_type": "stream",
     "text": [
      "Una cadena en una línea\n",
      "Una cadena en otra línea\n"
     ]
    }
   ],
   "source": [
    "print(\"Una cadena en una línea\\nUna cadena en otra línea\")"
   ]
  },
  {
   "cell_type": "markdown",
   "id": "d6d88469",
   "metadata": {},
   "source": [
    "**Para que la función print() nos muestre una cadena sin procesar debemos indicarle que la cadena es de tipo crudo, agregando la letra \"r\" antes de abrir comillas**"
   ]
  },
  {
   "cell_type": "code",
   "execution_count": 4,
   "id": "a0ef542a",
   "metadata": {},
   "outputs": [
    {
     "name": "stdout",
     "output_type": "stream",
     "text": [
      "C:\n",
      "ombre\n",
      "ombre_2\n"
     ]
    }
   ],
   "source": [
    "print(\"C:\\nombre\\nombre_2\")"
   ]
  },
  {
   "cell_type": "code",
   "execution_count": 3,
   "id": "baa80065",
   "metadata": {},
   "outputs": [
    {
     "name": "stdout",
     "output_type": "stream",
     "text": [
      "C:\\nombre\\nombre_2\n"
     ]
    }
   ],
   "source": [
    "print(r\"C:\\nombre\\nombre_2\")"
   ]
  },
  {
   "cell_type": "markdown",
   "id": "47d353f7",
   "metadata": {},
   "source": [
    "**También podemos indicarle que deseamos mostrar el texto en varias líneas de la siguente forma con la Tiple comilla doble**"
   ]
  },
  {
   "cell_type": "code",
   "execution_count": 6,
   "id": "813de5c2",
   "metadata": {},
   "outputs": [
    {
     "name": "stdout",
     "output_type": "stream",
     "text": [
      "Línea 1 es ésta\n",
      "y aquí tenemos la 2\n",
      "y ésta es la 3\n",
      "y así...\n",
      "así...\n",
      "al infinito\n"
     ]
    }
   ],
   "source": [
    "print(\"\"\"Línea 1 es ésta\n",
    "y aquí tenemos la 2\n",
    "y ésta es la 3\n",
    "y así...\n",
    "así...\n",
    "al infinito\"\"\")"
   ]
  }
 ],
 "metadata": {
  "kernelspec": {
   "display_name": "Python 3 (ipykernel)",
   "language": "python",
   "name": "python3"
  },
  "language_info": {
   "codemirror_mode": {
    "name": "ipython",
    "version": 3
   },
   "file_extension": ".py",
   "mimetype": "text/x-python",
   "name": "python",
   "nbconvert_exporter": "python",
   "pygments_lexer": "ipython3",
   "version": "3.10.9"
  }
 },
 "nbformat": 4,
 "nbformat_minor": 5
}
