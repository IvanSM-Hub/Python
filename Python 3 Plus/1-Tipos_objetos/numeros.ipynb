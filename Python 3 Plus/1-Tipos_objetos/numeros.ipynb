{
 "cells": [
  {
   "cell_type": "markdown",
   "id": "3fb0f830",
   "metadata": {},
   "source": [
    "# 2.2 Números\n",
    "**Podemos asignarle valores numéricos a las variables. Python tiene 4 tipos de variables para almacenarlos.**"
   ]
  },
  {
   "cell_type": "code",
   "execution_count": null,
   "id": "fe2a297a",
   "metadata": {},
   "outputs": [],
   "source": [
    "1+2"
   ]
  },
  {
   "cell_type": "markdown",
   "id": "d7ce57fe",
   "metadata": {},
   "source": [
    "**A) int\n",
    "Para números enteros**"
   ]
  },
  {
   "cell_type": "code",
   "execution_count": 3,
   "id": "90033d2d",
   "metadata": {},
   "outputs": [],
   "source": [
    "x=3"
   ]
  },
  {
   "cell_type": "code",
   "execution_count": 2,
   "id": "e97b8410",
   "metadata": {},
   "outputs": [
    {
     "data": {
      "text/plain": [
       "3"
      ]
     },
     "execution_count": 2,
     "metadata": {},
     "output_type": "execute_result"
    }
   ],
   "source": [
    "x"
   ]
  },
  {
   "cell_type": "markdown",
   "id": "41b675b8",
   "metadata": {},
   "source": [
    "**B) Float\n",
    "Para números decimales**"
   ]
  },
  {
   "cell_type": "code",
   "execution_count": 5,
   "id": "68425748",
   "metadata": {},
   "outputs": [],
   "source": [
    "y=4.5"
   ]
  },
  {
   "cell_type": "code",
   "execution_count": 7,
   "id": "a06385d9",
   "metadata": {},
   "outputs": [
    {
     "data": {
      "text/plain": [
       "4.5"
      ]
     },
     "execution_count": 7,
     "metadata": {},
     "output_type": "execute_result"
    }
   ],
   "source": [
    "y"
   ]
  },
  {
   "cell_type": "code",
   "execution_count": 8,
   "id": "3edfff7c",
   "metadata": {},
   "outputs": [
    {
     "data": {
      "text/plain": [
       "float"
      ]
     },
     "execution_count": 8,
     "metadata": {},
     "output_type": "execute_result"
    }
   ],
   "source": [
    "type(y)"
   ]
  },
  {
   "cell_type": "markdown",
   "id": "0f027bea",
   "metadata": {},
   "source": [
    "**C) Complex\n",
    "Para números complejos, o sea, de la forma (A+B) donde la unidad imaginaria está representada por j.**"
   ]
  },
  {
   "cell_type": "code",
   "execution_count": 2,
   "id": "f4091e8e",
   "metadata": {},
   "outputs": [],
   "source": [
    "c=1+2j;"
   ]
  },
  {
   "cell_type": "code",
   "execution_count": 4,
   "id": "953fb5b9",
   "metadata": {},
   "outputs": [],
   "source": [
    "parte_real=c.real\n",
    "parte_imaginaria=c.imag"
   ]
  },
  {
   "cell_type": "code",
   "execution_count": 5,
   "id": "ea64b9d2",
   "metadata": {},
   "outputs": [
    {
     "data": {
      "text/plain": [
       "(1.0, 2.0)"
      ]
     },
     "execution_count": 5,
     "metadata": {},
     "output_type": "execute_result"
    }
   ],
   "source": [
    "parte_real,parte_imaginaria"
   ]
  }
 ],
 "metadata": {
  "kernelspec": {
   "display_name": "Python 3 (ipykernel)",
   "language": "python",
   "name": "python3"
  },
  "language_info": {
   "codemirror_mode": {
    "name": "ipython",
    "version": 3
   },
   "file_extension": ".py",
   "mimetype": "text/x-python",
   "name": "python",
   "nbconvert_exporter": "python",
   "pygments_lexer": "ipython3",
   "version": "3.10.9"
  }
 },
 "nbformat": 4,
 "nbformat_minor": 5
}
