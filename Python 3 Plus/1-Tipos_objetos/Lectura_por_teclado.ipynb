{
 "cells": [
  {
   "cell_type": "markdown",
   "id": "4e9508ca",
   "metadata": {},
   "source": [
    "# 2.8 Lectura por teclado\n",
    "La función input() permite almacenar un valor ingresando con el teclado en una variable"
   ]
  },
  {
   "cell_type": "code",
   "execution_count": null,
   "id": "2b1024a8",
   "metadata": {},
   "outputs": [],
   "source": [
    "valor=input()"
   ]
  },
  {
   "cell_type": "code",
   "execution_count": null,
   "id": "f8886923",
   "metadata": {},
   "outputs": [],
   "source": [
    "valor"
   ]
  },
  {
   "cell_type": "markdown",
   "id": "41a9073d",
   "metadata": {},
   "source": [
    "La función input() almacena todo como variable str. Pero se puede modificar este tipo"
   ]
  },
  {
   "cell_type": "code",
   "execution_count": null,
   "id": "d303b355",
   "metadata": {},
   "outputs": [],
   "source": [
    "type(valor)"
   ]
  },
  {
   "cell_type": "code",
   "execution_count": null,
   "id": "77c9315e",
   "metadata": {},
   "outputs": [],
   "source": [
    "valor_num=float(input(\"Introduce un número: \"))"
   ]
  },
  {
   "cell_type": "code",
   "execution_count": null,
   "id": "283d1e88",
   "metadata": {},
   "outputs": [],
   "source": [
    "type(valor_num)"
   ]
  },
  {
   "cell_type": "code",
   "execution_count": null,
   "id": "028dc6a9",
   "metadata": {},
   "outputs": [],
   "source": [
    "edad=int(input(\"Introduce tu edad: \"))"
   ]
  },
  {
   "cell_type": "code",
   "execution_count": null,
   "id": "1a219adf",
   "metadata": {},
   "outputs": [],
   "source": [
    "print(edad, type(edad))"
   ]
  }
 ],
 "metadata": {
  "kernelspec": {
   "display_name": "Python 3 (ipykernel)",
   "language": "python",
   "name": "python3"
  },
  "language_info": {
   "codemirror_mode": {
    "name": "ipython",
    "version": 3
   },
   "file_extension": ".py",
   "mimetype": "text/x-python",
   "name": "python",
   "nbconvert_exporter": "python",
   "pygments_lexer": "ipython3",
   "version": "3.10.9"
  }
 },
 "nbformat": 4,
 "nbformat_minor": 5
}
