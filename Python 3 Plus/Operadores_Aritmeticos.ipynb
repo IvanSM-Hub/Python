{
 "cells": [
  {
   "cell_type": "markdown",
   "id": "28749872",
   "metadata": {},
   "source": [
    "# 2.6 Operadores aritméticos\n",
    "Los operadores aritméticos sirven principalmente para los tipos de datos numéricos, si bién tienen algunas utilidades con otros tipos de datos com listas o cadenas de caracteres."
   ]
  },
  {
   "cell_type": "markdown",
   "id": "c1a418f2",
   "metadata": {},
   "source": [
    "**A) Adición o concatenación**<br>\n",
    "También para caracteres, tuplas y listas. Sigue la forma (a+b)"
   ]
  },
  {
   "cell_type": "code",
   "execution_count": null,
   "id": "2b6f27b2",
   "metadata": {},
   "outputs": [],
   "source": [
    "8+30.5"
   ]
  },
  {
   "cell_type": "code",
   "execution_count": null,
   "id": "a9262d03",
   "metadata": {},
   "outputs": [],
   "source": [
    "'Hola,'+' cómo estás?'"
   ]
  },
  {
   "cell_type": "markdown",
   "id": "21dec769",
   "metadata": {},
   "source": [
    "**B) Sustracción**"
   ]
  },
  {
   "cell_type": "code",
   "execution_count": null,
   "id": "2b41285b",
   "metadata": {},
   "outputs": [],
   "source": [
    "49-30"
   ]
  },
  {
   "cell_type": "markdown",
   "id": "54f7ad32",
   "metadata": {},
   "source": [
    "**C) Multiplicación**"
   ]
  },
  {
   "cell_type": "code",
   "execution_count": null,
   "id": "d9534a73",
   "metadata": {},
   "outputs": [],
   "source": [
    "60*6"
   ]
  },
  {
   "cell_type": "code",
   "execution_count": null,
   "id": "e7f946e9",
   "metadata": {},
   "outputs": [],
   "source": [
    "\"Tururú\"*3"
   ]
  },
  {
   "cell_type": "markdown",
   "id": "d49d2dd9",
   "metadata": {},
   "source": [
    "**D) División**<br>\n",
    "La división con / devuelve un float, para que devuelva un entero habría que poner //"
   ]
  },
  {
   "cell_type": "code",
   "execution_count": null,
   "id": "108ebb6e",
   "metadata": {},
   "outputs": [],
   "source": [
    "10/5"
   ]
  },
  {
   "cell_type": "markdown",
   "id": "d2251468",
   "metadata": {},
   "source": [
    "**E) Módulo o residuo de la división**<br>\n",
    "Sigue la forma de (a%b)"
   ]
  },
  {
   "cell_type": "code",
   "execution_count": null,
   "id": "87c5ecab",
   "metadata": {},
   "outputs": [],
   "source": [
    "print(5%2)"
   ]
  },
  {
   "cell_type": "markdown",
   "id": "33d16b2a",
   "metadata": {},
   "source": [
    "**F) Exponenciación**<br>\n",
    "Sigue la forma (a**b)"
   ]
  },
  {
   "cell_type": "code",
   "execution_count": null,
   "id": "95bfc612",
   "metadata": {},
   "outputs": [],
   "source": [
    "4**5"
   ]
  },
  {
   "cell_type": "markdown",
   "id": "f513d6e2",
   "metadata": {},
   "source": [
    "**Operadores de asignación**<br>\n",
    "Los operadores de asignación nos facilitan escibir código. Estos son los siguientes:<br>\n",
    ">[=;+=;-=;/=;%=;*=;//=;**=]"
   ]
  },
  {
   "cell_type": "code",
   "execution_count": null,
   "id": "ac6a8585",
   "metadata": {},
   "outputs": [],
   "source": [
    "edad=10\n",
    "print(edad)"
   ]
  },
  {
   "cell_type": "code",
   "execution_count": null,
   "id": "ebe23662",
   "metadata": {},
   "outputs": [],
   "source": [
    "edad=edad-3\n",
    "print(edad)"
   ]
  },
  {
   "cell_type": "code",
   "execution_count": null,
   "id": "6dc620de",
   "metadata": {},
   "outputs": [],
   "source": [
    "edad=10\n",
    "print(edad)"
   ]
  },
  {
   "cell_type": "code",
   "execution_count": null,
   "id": "fbb12a9c",
   "metadata": {},
   "outputs": [],
   "source": [
    "edad-=3\n",
    "print(edad)"
   ]
  },
  {
   "cell_type": "code",
   "execution_count": 14,
   "id": "2e1588f0",
   "metadata": {},
   "outputs": [
    {
     "name": "stdout",
     "output_type": "stream",
     "text": [
      "2.0\n"
     ]
    }
   ],
   "source": [
    "edad/=5\n",
    "print(edad)"
   ]
  }
 ],
 "metadata": {
  "kernelspec": {
   "display_name": "Python 3 (ipykernel)",
   "language": "python",
   "name": "python3"
  },
  "language_info": {
   "codemirror_mode": {
    "name": "ipython",
    "version": 3
   },
   "file_extension": ".py",
   "mimetype": "text/x-python",
   "name": "python",
   "nbconvert_exporter": "python",
   "pygments_lexer": "ipython3",
   "version": "3.10.9"
  }
 },
 "nbformat": 4,
 "nbformat_minor": 5
}
