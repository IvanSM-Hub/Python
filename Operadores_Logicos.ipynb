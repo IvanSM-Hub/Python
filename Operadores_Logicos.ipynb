{
 "cells": [
  {
   "cell_type": "markdown",
   "id": "73ec8a53",
   "metadata": {},
   "source": [
    "# 2.7 Operadores lógicos\n",
    "Los operadores lógicos  siguen las reglas de la lógica preposicional."
   ]
  },
  {
   "cell_type": "markdown",
   "id": "4c5fc096",
   "metadata": {},
   "source": [
    "**A) AND**"
   ]
  },
  {
   "cell_type": "code",
   "execution_count": null,
   "id": "bc230869",
   "metadata": {},
   "outputs": [],
   "source": [
    "True and False"
   ]
  },
  {
   "cell_type": "code",
   "execution_count": null,
   "id": "46b48570",
   "metadata": {},
   "outputs": [],
   "source": [
    "True and True"
   ]
  },
  {
   "cell_type": "code",
   "execution_count": null,
   "id": "608d0bd3",
   "metadata": {},
   "outputs": [],
   "source": [
    "False and False"
   ]
  },
  {
   "cell_type": "markdown",
   "id": "47bfb263",
   "metadata": {},
   "source": [
    "**B) OR**"
   ]
  },
  {
   "cell_type": "code",
   "execution_count": null,
   "id": "446fbea3",
   "metadata": {},
   "outputs": [],
   "source": [
    "True or False"
   ]
  },
  {
   "cell_type": "code",
   "execution_count": null,
   "id": "f9053776",
   "metadata": {},
   "outputs": [],
   "source": [
    "True or False"
   ]
  },
  {
   "cell_type": "code",
   "execution_count": null,
   "id": "7fe9546a",
   "metadata": {},
   "outputs": [],
   "source": [
    "True or False"
   ]
  },
  {
   "cell_type": "markdown",
   "id": "11a35418",
   "metadata": {},
   "source": [
    "**C) NOT ----**"
   ]
  },
  {
   "cell_type": "code",
   "execution_count": null,
   "id": "178b41b7",
   "metadata": {},
   "outputs": [],
   "source": [
    "not True"
   ]
  },
  {
   "cell_type": "code",
   "execution_count": null,
   "id": "01fa80c3",
   "metadata": {},
   "outputs": [],
   "source": [
    "not False"
   ]
  },
  {
   "cell_type": "markdown",
   "id": "a18fdad5",
   "metadata": {},
   "source": [
    "**Operadores de comparación**<br>\n",
    ">[==;!=;<;>;<=;>=]"
   ]
  }
 ],
 "metadata": {
  "kernelspec": {
   "display_name": "Python 3 (ipykernel)",
   "language": "python",
   "name": "python3"
  },
  "language_info": {
   "codemirror_mode": {
    "name": "ipython",
    "version": 3
   },
   "file_extension": ".py",
   "mimetype": "text/x-python",
   "name": "python",
   "nbconvert_exporter": "python",
   "pygments_lexer": "ipython3",
   "version": "3.10.9"
  }
 },
 "nbformat": 4,
 "nbformat_minor": 5
}
