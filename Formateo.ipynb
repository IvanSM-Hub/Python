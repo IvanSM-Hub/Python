{
 "cells": [
  {
   "cell_type": "markdown",
   "id": "e4c50150",
   "metadata": {},
   "source": [
    "# 2.9 Formateo"
   ]
  },
  {
   "cell_type": "code",
   "execution_count": null,
   "id": "372ff3e0",
   "metadata": {},
   "outputs": [],
   "source": [
    "'{} es el primer valor y {} es el segundo'.format(1,2)"
   ]
  },
  {
   "cell_type": "code",
   "execution_count": null,
   "id": "70c1376e",
   "metadata": {},
   "outputs": [],
   "source": [
    "'En este caso alternamos el orden y el {1}  aparece primero, luego el {0}'.format('Uno','Dos')"
   ]
  },
  {
   "cell_type": "code",
   "execution_count": null,
   "id": "141584af",
   "metadata": {},
   "outputs": [],
   "source": [
    "nombre='la cartuja de parma'\n",
    "\n",
    "x=.7\n",
    "\n",
    "print(f'El valor de {nombre} es ',x)"
   ]
  },
  {
   "cell_type": "markdown",
   "id": "3f949175",
   "metadata": {},
   "source": [
    "**También podemos aplicar métodos**"
   ]
  },
  {
   "cell_type": "code",
   "execution_count": null,
   "id": "5c751a84",
   "metadata": {},
   "outputs": [],
   "source": [
    "print(f'El valor de {nombre.title()}\\nes ',x,' dolares por papel')"
   ]
  },
  {
   "cell_type": "code",
   "execution_count": null,
   "id": "76ac897e",
   "metadata": {},
   "outputs": [],
   "source": [
    "diccionario={'uno':x,'dos':x.__add__(10)};\n",
    "\n",
    "print(diccionario)"
   ]
  },
  {
   "cell_type": "code",
   "execution_count": null,
   "id": "2234b450",
   "metadata": {},
   "outputs": [],
   "source": [
    "print(f'{nombre.title()} cuesta {diccionario[\"uno\"]} pesos\\ny el otro libro {diccionario[\"dos\"]} pesos')"
   ]
  }
 ],
 "metadata": {
  "kernelspec": {
   "display_name": "Python 3 (ipykernel)",
   "language": "python",
   "name": "python3"
  },
  "language_info": {
   "codemirror_mode": {
    "name": "ipython",
    "version": 3
   },
   "file_extension": ".py",
   "mimetype": "text/x-python",
   "name": "python",
   "nbconvert_exporter": "python",
   "pygments_lexer": "ipython3",
   "version": "3.10.9"
  }
 },
 "nbformat": 4,
 "nbformat_minor": 5
}
